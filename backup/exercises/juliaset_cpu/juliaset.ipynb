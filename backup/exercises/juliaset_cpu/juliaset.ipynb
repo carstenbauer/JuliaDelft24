{
 "cells": [
  {
   "cell_type": "markdown",
   "metadata": {
    "tags": []
   },
   "source": [
    "# Exercise: [Julia Set](https://en.wikipedia.org/wiki/Julia_set)"
   ]
  },
  {
   "cell_type": "markdown",
   "metadata": {},
   "source": [
    "**Note: You should use 8 Julia threads for this exercise. Select the Jupyter kernel `Julia (8 threads) 1.10.0`.**"
   ]
  },
  {
   "cell_type": "code",
   "execution_count": null,
   "metadata": {
    "tags": []
   },
   "outputs": [],
   "source": [
    "using Base.Threads\n",
    "@assert Threads.nthreads() == 8"
   ]
  },
  {
   "cell_type": "markdown",
   "metadata": {},
   "source": [
    "<img src=\"./solution_proposal/juliaset.svg\" width=700>\n",
    "\n",
    "In this exercise we want to compute an image of the [Julia set](https://en.wikipedia.org/wiki/Julia_set) (see above) first sequentially and then in parallel using different **multithreading** variants.\n",
    "\n",
    "The value of a single pixel (`i,j` coordinates) of the Julia set, which corresponds to a point `z` in the complex number plane, can be computed by the following iteration procedure / function."
   ]
  },
  {
   "cell_type": "code",
   "execution_count": null,
   "metadata": {
    "tags": []
   },
   "outputs": [],
   "source": [
    "function _compute_pixel(i, j, n; max_iter=255, c=-0.79 + 0.15 * im)\n",
    "    x = -2.0 + (j - 1) * 4.0 / (n - 1)\n",
    "    y = -2.0 + (i - 1) * 4.0 / (n - 1)\n",
    "\n",
    "    z = x + y * im\n",
    "    iter = max_iter\n",
    "    for k in 1:max_iter\n",
    "        if abs2(z) > 4.0\n",
    "            iter = k - 1\n",
    "            break\n",
    "        end\n",
    "        z = z^2 + c\n",
    "    end\n",
    "    return iter\n",
    "end"
   ]
  },
  {
   "cell_type": "markdown",
   "metadata": {},
   "source": [
    "Note that the value of the pixel is the number of performed iterations for the corresponding complex number `z`."
   ]
  },
  {
   "cell_type": "code",
   "execution_count": null,
   "metadata": {
    "tags": []
   },
   "outputs": [],
   "source": [
    "using Plots\n",
    "using BenchmarkTools"
   ]
  },
  {
   "cell_type": "markdown",
   "metadata": {},
   "source": [
    "**Task 1:** Utilizing the function `_compute_pixel!(i,j,n)` from above, implement a function `compute_juliaset_sequential!(img)` below and verify (by plotting) that you actually get the desired Julia set image\n",
    "* Hint 1: `img` is a two-dimensional array with equal size in each dimension. Essentially you just have to loop over both dimensions and fill the `img` array.\n",
    "* Hint 2: use `@inbounds` if you like."
   ]
  },
  {
   "cell_type": "code",
   "execution_count": null,
   "metadata": {
    "tags": []
   },
   "outputs": [],
   "source": [
    "\"\"\"\n",
    "Computes the Julia set sequentially (column by column).\n",
    "The result is written into `img`.\n",
    "\"\"\"\n",
    "function compute_juliaset_sequential!(img)\n",
    "    N = size(img, 1)\n",
    "    #\n",
    "    # TODO...\n",
    "    #\n",
    "    return img\n",
    "end\n",
    "\n",
    "N = 2000\n",
    "img = zeros(Int, N, N)\n",
    "compute_juliaset_sequential!(img)\n",
    "heatmap(img)"
   ]
  },
  {
   "cell_type": "markdown",
   "metadata": {},
   "source": [
    "**Task 2:** Now implement a variant `compute_juliaset_threads!` that does the same as `compute_juliaset_sequential` but that parallelizes the outer loop (that iterates over columns) via `@threads`."
   ]
  },
  {
   "cell_type": "code",
   "execution_count": null,
   "metadata": {
    "tags": []
   },
   "outputs": [],
   "source": [
    "\"\"\"\n",
    "Computes the Julia set column by column using multithreading (`@threads`).\n",
    "The result is written into `img`.\n",
    "\"\"\"\n",
    "function compute_juliaset_threads!(img)\n",
    "    N = size(img, 1)\n",
    "    #\n",
    "    # TODO...\n",
    "    #\n",
    "    return img\n",
    "end\n",
    "\n",
    "N = 2000\n",
    "img = zeros(Int, N, N)\n",
    "compute_juliaset_threads!(img)\n",
    "heatmap(img)"
   ]
  },
  {
   "cell_type": "markdown",
   "metadata": {},
   "source": [
    "**Task 3:** Now implement a variant `compute_juliaset_spawn!` that uses `@spawn` to multithread the computation. (Note: Don't forget to synchronize with `@sync`!)"
   ]
  },
  {
   "cell_type": "code",
   "execution_count": null,
   "metadata": {
    "tags": []
   },
   "outputs": [],
   "source": [
    "\"\"\"\n",
    "Computes the Julia set column by column using multithreading (`@spawn`).\n",
    "The result is written into `img`.\n",
    "\"\"\"\n",
    "function compute_juliaset_spawn!(img)\n",
    "    N = size(img, 1)\n",
    "    #\n",
    "    # TODO...\n",
    "    #\n",
    "    return img\n",
    "end\n",
    "\n",
    "N = 2000\n",
    "img = zeros(Int, N, N)\n",
    "compute_juliaset_spawn!(img)\n",
    "heatmap(img)"
   ]
  },
  {
   "cell_type": "markdown",
   "metadata": {},
   "source": [
    "**Task 4:** Benchmark the three variants with `@btime`. Can you explain why the `@spawn` variant is faster than the version with `@threads`?"
   ]
  },
  {
   "cell_type": "code",
   "execution_count": null,
   "metadata": {},
   "outputs": [],
   "source": [
    "# 4)\n",
    "N = 2000\n",
    "img = zeros(Int, N, N)\n",
    "#\n",
    "# TODO...\n",
    "#"
   ]
  }
 ],
 "metadata": {
  "@webio": {
   "lastCommId": null,
   "lastKernelId": null
  },
  "kernelspec": {
   "display_name": "Julia 1.10.4",
   "language": "julia",
   "name": "julia-1.10"
  },
  "language_info": {
   "file_extension": ".jl",
   "mimetype": "application/julia",
   "name": "julia",
   "version": "1.10.4"
  }
 },
 "nbformat": 4,
 "nbformat_minor": 4
}
