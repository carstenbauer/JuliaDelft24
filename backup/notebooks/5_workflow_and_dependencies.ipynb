{
 "cells": [
  {
   "cell_type": "markdown",
   "id": "2792f38d-c4dd-4d09-af6d-ce6e5c0c7826",
   "metadata": {},
   "source": [
    "# Workflow"
   ]
  },
  {
   "cell_type": "markdown",
   "id": "edfa2840-8f20-4219-8240-d72eacc0ef6a",
   "metadata": {},
   "source": [
    "## Traditional: \"make a change and rerun the file\""
   ]
  },
  {
   "cell_type": "markdown",
   "id": "ed4b2f40-5745-4924-9869-47d893abb62f",
   "metadata": {},
   "source": [
    "<img src=\"./imgs/workflow_traditional.png\" width=1200px>"
   ]
  },
  {
   "cell_type": "markdown",
   "id": "6dd699b6-5ea2-48fc-8362-0bc343743155",
   "metadata": {},
   "source": [
    "**Pros**\n",
    "* conceptually simple\n",
    "* can use any editor\n",
    "\n",
    "**Cons**\n",
    "* no interactivity (!)\n",
    "* loading cost must be paid every time (!)\n",
    "\n",
    "Note: If you want interactivity, you can keep a REPL running and use [Revise.jl](https://github.com/timholy/Revise.jl) to have changes to your script file automatically reflected in the running Julia session.\n",
    "\n",
    "* Open `julia`\n",
    "* Load Revise: `using Revise` (or put it in `~/.julia/config/startup.jl`, see [here](https://timholy.github.io/Revise.jl/stable/config/#Using-Revise-by-default-1))\n",
    "* Include your code with `includet(\"script.jl\")` instead of `include(\"script.jl\")`"
   ]
  },
  {
   "cell_type": "markdown",
   "id": "7f6c47f6-0069-4d39-9107-1e66e25f6d3e",
   "metadata": {},
   "source": [
    "## Visual Studio Code: IDE"
   ]
  },
  {
   "cell_type": "markdown",
   "id": "54eba788-729b-48fb-868f-861226a51bee",
   "metadata": {},
   "source": [
    "<img src=\"./imgs/workflow_vscode.png\" width=1200px>"
   ]
  },
  {
   "cell_type": "markdown",
   "id": "7874f327-b7d8-46b3-8dd6-347971c05185",
   "metadata": {},
   "source": [
    "(Image taken from https://www.julia-vscode.org/)"
   ]
  },
  {
   "cell_type": "markdown",
   "id": "2e154286-1892-4ae0-a968-a2327ff3e726",
   "metadata": {},
   "source": [
    "The [Julia extension](https://www.julia-vscode.org/) for VS Code is actively maintained.\n",
    "\n",
    "Basic introduction: [Julia in Visual Studio Code](https://code.visualstudio.com/docs/languages/julia)\n",
    "\n",
    "**Most important [Keybindings:](https://www.julia-vscode.org/docs/stable/userguide/keybindings/)**\n",
    "\n",
    "* Open integrated Julia REPL: `Alt-J Alt-O`\n",
    "* Kill integrated Julia REPL: `Alt-J Alt-K`\n",
    "* Restart integrated Julia REPL: `Alt-J Alt-R`\n",
    "* Execute a line/block of code: `Shift+Enter` and `Ctrl-Enter` (similar to Jupyter notebooks)"
   ]
  },
  {
   "cell_type": "markdown",
   "id": "57bb0efc-e021-429b-8a76-a0dc82bdf6a4",
   "metadata": {},
   "source": [
    "**Pros**\n",
    "* interactivity\n",
    "* lots of integrated features\n",
    "  * code completion (IntelliSense)\n",
    "  * documentation\n",
    "  * workspace view\n",
    "  * profiler\n",
    "  * debugger\n",
    "* (supports Jupyter notebooks as well)\n",
    "\n",
    "**Cons**\n",
    "* not as lightweight / minimal\n",
    "* integrated REPL takes noticeably longer to start due to VSCodeServer / LanguageServer\n",
    "* can sometimes be a bit tricky to set up on HPC clusters\n",
    "  * job scheduler (SLURM, PBS) and SSH permissions\n",
    "    * can we SSH to compute nodes? Under what conditions?\n",
    "  * `module` software system\n",
    "    * `julia` only works after, e.g., `module load julia` → wrapper script for Julia VS Code extension necessary\n",
    "  * (PC2 documentation has [more information](https://uni-paderborn.atlassian.net/wiki/spaces/PC2DOK/pages/38240257/VS+Code+Remote+Usage))"
   ]
  },
  {
   "cell_type": "markdown",
   "id": "6f925672-be7e-4770-aabe-b56455d2d717",
   "metadata": {},
   "source": [
    "# Dependencies\n",
    "\n",
    "We're almost always using external dependencies (e.g. Julia packages, MPI, CUDA, ...). Getting the dependencies set up on a new machine/a new HPC cluster is traditionally highly non-trivial!\n",
    "\n",
    "Julia provides a great [package manager](https://pkgdocs.julialang.org/v1/) to make this process as simple as possible.\n",
    "\n",
    "**Most important commands:**\n",
    "\n",
    "* `julia --project` (use the local environment)\n",
    "* `] status`\n",
    "* `] add SomePackage`\n",
    "* `] remove SomePackage`\n",
    "* `] instantiate`"
   ]
  },
  {
   "cell_type": "markdown",
   "id": "ed0142a4-b616-4da1-b0b7-2f4a06e89f79",
   "metadata": {},
   "source": [
    "## Package environments"
   ]
  },
  {
   "cell_type": "markdown",
   "id": "66f56215-2ae2-4cea-bffa-c0715f08a857",
   "metadata": {},
   "source": [
    "Executability of code is only \"guaranteed\" if we have the **exact same versions of the dependencies** that we had when writing the code. Julia provides [package environments](https://docs.julialang.org/en/v1/manual/code-loading/#Environments-1) to deal with this.\n",
    "\n",
    "**Project.toml**: Specifies the direct dependencies (that were `] add`ed) without versions (but, potentially, compatabilitiy bounds).\n",
    "\n",
    "**Manifest.toml**: Auto-generated file that specifies the entire dependency tree, i.e. all dependencies with precise version information etc.\n",
    "\n",
    "Generally speaking: Your code + `Project.toml` + `Manifest.toml` = **a reproducible project**.\n",
    "\n",
    "### How to move code to a cluster?\n",
    "\n",
    "Copy your reproducible project to the cluster and simply run `] instantiate` to install (and precompile) all necessary dependencies with one command.\n",
    "\n",
    "<img src=\"./imgs/pkg_portability.png\" width=1300px>"
   ]
  },
  {
   "cell_type": "markdown",
   "id": "6c582352-8773-4d57-93da-c47fa2f15a4e",
   "metadata": {},
   "source": [
    "### Binary dependencies and Julia library (JLL) packages\n",
    "\n",
    "[Since Julia 1.3+](https://julialang.org/blog/2019/11/artifacts/), Julia supports attaching arbitrary data to projects and packages in the form of [Julia Artifacts](https://pkgdocs.julialang.org/dev/artifacts/).\n",
    "\n",
    "**JLL packages** (see [JuliaBinaryWrappers](https://github.com/JuliaBinaryWrappers)) are minimal wrapper packages that provide versioned binary dependencies. Just add them to your Julia environment like any other package!\n",
    "\n",
    "Note that JLLs, like all other Julia packages, are only installed once per user and not once per project!\n",
    "\n",
    "**Examples:** [Hwloc_jll.jl](https://github.com/JuliaBinaryWrappers/Hwloc_jll.jl) (provides the shared library `libhwloc`)"
   ]
  },
  {
   "cell_type": "code",
   "execution_count": null,
   "id": "50591d21-964c-46b1-8d59-c5e0d46e7e96",
   "metadata": {},
   "outputs": [],
   "source": [
    "using Hwloc_jll"
   ]
  },
  {
   "cell_type": "code",
   "execution_count": null,
   "id": "8093da84-e7cb-4a28-9c66-bd5283bd9185",
   "metadata": {},
   "outputs": [],
   "source": [
    "Hwloc_jll.libhwloc"
   ]
  },
  {
   "cell_type": "code",
   "execution_count": null,
   "id": "909a3c5b-c784-4a92-93d1-d4041731e639",
   "metadata": {},
   "outputs": [],
   "source": [
    "using Libdl"
   ]
  },
  {
   "cell_type": "code",
   "execution_count": null,
   "id": "079bb680-aa01-42ee-88d2-87b141687280",
   "metadata": {},
   "outputs": [],
   "source": [
    "dlopen(Hwloc_jll.libhwloc) do lib\n",
    "    dlsym(lib, :hwloc_topology_init)\n",
    "end"
   ]
  },
  {
   "cell_type": "markdown",
   "id": "bcbaf412-7b6f-4627-82de-8270c74e01b2",
   "metadata": {},
   "source": [
    "#### JLL production pipeline\n",
    "\n",
    "* [BinaryBuilder](https://github.com/JuliaPackaging/BinaryBuilder.jl): Tools for building binary packages (cross compiling them in a sandbox environment)\n",
    "* [Yggdrasil](https://github.com/JuliaPackaging/Yggdrasil): Community buildtree of BinaryBuilder recipes for building binary packages.\n",
    "* [JuliaBinaryWrappers](https://github.com/JuliaBinaryWrappers): Final Julia packages that wrap binary dependencies.\n",
    "\n",
    "**Pipeline:** [BinaryBuilder](https://github.com/JuliaPackaging/BinaryBuilder.jl) → [Yggdrasil](https://github.com/JuliaPackaging/Yggdrasil) → [JuliaBinaryWrappers](https://github.com/JuliaBinaryWrappers)"
   ]
  },
  {
   "cell_type": "markdown",
   "id": "89fe7a1c-d01b-4612-9db1-99a43d446852",
   "metadata": {},
   "source": [
    "#### Using pre-installed system binaries (if you need to)"
   ]
  },
  {
   "cell_type": "markdown",
   "id": "b86f9be8-bc4c-444c-b231-18b3d7e922d6",
   "metadata": {},
   "source": [
    "One can use [Julia preferences](https://docs.julialang.org/en/v1/manual/code-loading/#preferences) to teach wrapper packages like MPI.jl or CUDA.jl to use a system installation of MPI or CUDA instead of JLLs.\n",
    "\n",
    "**MPI.jl**\n",
    "\n",
    "```julia\n",
    "using MPIPreferences\n",
    "MPIPreferences.use_system_binary()\n",
    "```\n",
    "\n",
    "**CUDA.jl**\n",
    "\n",
    "```julia\n",
    "using CUDA\n",
    "CUDA.set_runtime_version!(v\"12.2\"; local_toolkit=true)\n",
    "```\n",
    "\n",
    "Note, however, that JLLs and their binaries are set up in such a way that they work nicely together. If you use system binaries the burden of ensuring this is on you (or the HPC admins)."
   ]
  }
 ],
 "metadata": {
  "kernelspec": {
   "display_name": "Julia 1.10.4",
   "language": "julia",
   "name": "julia-1.10"
  },
  "language_info": {
   "file_extension": ".jl",
   "mimetype": "application/julia",
   "name": "julia",
   "version": "1.10.4"
  }
 },
 "nbformat": 4,
 "nbformat_minor": 5
}
