{
 "cells": [
  {
   "cell_type": "markdown",
   "id": "dce7f9a5-f9d2-4281-9086-afd6a83a44a8",
   "metadata": {},
   "source": [
    "# `Channel` (synchronization of tasks)"
   ]
  },
  {
   "cell_type": "markdown",
   "id": "4e06e45b-6fa4-4911-bc49-4733d59c8c15",
   "metadata": {},
   "source": [
    "Implement synchronization/communication between tasks.\n",
    "\n",
    "Most relevant functions: `put!`, `take!`, `fetch`, `isready` and `wait`."
   ]
  },
  {
   "cell_type": "code",
   "execution_count": 1,
   "id": "9668690c-0d1b-4e3a-b4c1-bfeea83b2286",
   "metadata": {
    "tags": []
   },
   "outputs": [
    {
     "data": {
      "text/plain": [
       "Channel{Int64}(5) (empty)"
      ]
     },
     "metadata": {},
     "output_type": "display_data"
    }
   ],
   "source": [
    "ch = Channel{Int}(5) # a channel that can hold up to 5 integers"
   ]
  },
  {
   "cell_type": "code",
   "execution_count": 2,
   "id": "826c0777-9f03-4e47-95e9-7294f872d7be",
   "metadata": {
    "tags": []
   },
   "outputs": [
    {
     "data": {
      "text/plain": [
       "false"
      ]
     },
     "metadata": {},
     "output_type": "display_data"
    }
   ],
   "source": [
    "isready(ch) # something in the channel?"
   ]
  },
  {
   "cell_type": "code",
   "execution_count": 3,
   "id": "b114d6a8-8cad-4b4a-9cc3-0a12d51b8d6f",
   "metadata": {
    "tags": []
   },
   "outputs": [
    {
     "data": {
      "text/plain": [
       "3"
      ]
     },
     "metadata": {},
     "output_type": "display_data"
    }
   ],
   "source": [
    "put!(ch, 3)"
   ]
  },
  {
   "cell_type": "code",
   "execution_count": 4,
   "id": "4019df90-2589-4b71-b0e9-f87044485ee1",
   "metadata": {
    "tags": []
   },
   "outputs": [
    {
     "data": {
      "text/plain": [
       "true"
      ]
     },
     "metadata": {},
     "output_type": "display_data"
    }
   ],
   "source": [
    "isready(ch)"
   ]
  },
  {
   "cell_type": "code",
   "execution_count": 5,
   "id": "a9765ee4-f9e7-4ed3-ab98-b5155b6fa4bb",
   "metadata": {
    "tags": []
   },
   "outputs": [
    {
     "data": {
      "text/plain": [
       "6"
      ]
     },
     "metadata": {},
     "output_type": "display_data"
    }
   ],
   "source": [
    "3+3"
   ]
  },
  {
   "cell_type": "code",
   "execution_count": 6,
   "id": "954ad792-88f0-41ca-b15c-f77848af055a",
   "metadata": {
    "tags": []
   },
   "outputs": [
    {
     "data": {
      "text/plain": [
       "3"
      ]
     },
     "metadata": {},
     "output_type": "display_data"
    }
   ],
   "source": [
    "fetch(ch)"
   ]
  },
  {
   "cell_type": "code",
   "execution_count": 7,
   "id": "366c21da-85ce-475a-9b98-06a4a2afbfb0",
   "metadata": {
    "tags": []
   },
   "outputs": [
    {
     "data": {
      "text/plain": [
       "3"
      ]
     },
     "metadata": {},
     "output_type": "display_data"
    }
   ],
   "source": [
    "take!(ch)"
   ]
  },
  {
   "cell_type": "code",
   "execution_count": 8,
   "id": "f62db1dd-5498-43f0-8ad5-6dcb910710be",
   "metadata": {
    "tags": []
   },
   "outputs": [
    {
     "data": {
      "text/plain": [
       "false"
      ]
     },
     "metadata": {},
     "output_type": "display_data"
    }
   ],
   "source": [
    "isready(ch)"
   ]
  },
  {
   "cell_type": "code",
   "execution_count": 9,
   "id": "3cee7095-e4a9-49f5-b348-029f6b1c21b5",
   "metadata": {
    "tags": []
   },
   "outputs": [
    {
     "data": {
      "text/plain": [
       "4"
      ]
     },
     "metadata": {},
     "output_type": "display_data"
    }
   ],
   "source": [
    "put!(ch, 4)"
   ]
  },
  {
   "cell_type": "code",
   "execution_count": 10,
   "id": "c27718a2-0bd2-4b59-af99-49f9f469330c",
   "metadata": {
    "tags": []
   },
   "outputs": [
    {
     "data": {
      "text/plain": [
       "4"
      ]
     },
     "metadata": {},
     "output_type": "display_data"
    }
   ],
   "source": [
    "fetch(ch)"
   ]
  },
  {
   "cell_type": "code",
   "execution_count": 11,
   "id": "034b12a9-4193-49e7-b810-a0fa2111417c",
   "metadata": {
    "tags": []
   },
   "outputs": [
    {
     "data": {
      "text/plain": [
       "4"
      ]
     },
     "metadata": {},
     "output_type": "display_data"
    }
   ],
   "source": [
    "take!(ch)"
   ]
  },
  {
   "cell_type": "markdown",
   "id": "58f32c54-6228-4bf4-9147-aeddad6ec733",
   "metadata": {},
   "source": [
    "**Be careful**, `take!` and `put!` are blocking if the channel is empty or full!"
   ]
  },
  {
   "cell_type": "code",
   "execution_count": 12,
   "id": "343889a2-974c-401f-adca-6b9f253b07fb",
   "metadata": {
    "tags": []
   },
   "outputs": [
    {
     "data": {
      "text/plain": [
       "false"
      ]
     },
     "metadata": {},
     "output_type": "display_data"
    }
   ],
   "source": [
    "isready(ch)"
   ]
  },
  {
   "cell_type": "code",
   "execution_count": 13,
   "id": "85ba77d7-a90e-4116-94ed-b1fd9d485b17",
   "metadata": {
    "tags": []
   },
   "outputs": [],
   "source": [
    "# take!(ch) if we execute this, while isready(ch) == false, the current Julia session will hang."
   ]
  },
  {
   "cell_type": "markdown",
   "id": "cd1adf11-c63a-4a50-9550-d41531b995bf",
   "metadata": {},
   "source": [
    "## Basic example"
   ]
  },
  {
   "cell_type": "code",
   "execution_count": 13,
   "id": "3075b677-1742-4912-b1a5-f9fc09c055db",
   "metadata": {
    "tags": []
   },
   "outputs": [
    {
     "data": {
      "text/plain": [
       "Task (runnable) @0x000000010c110e80"
      ]
     },
     "metadata": {},
     "output_type": "display_data"
    }
   ],
   "source": [
    "c = Channel{Union{Nothing, Int}}(1)\n",
    "\n",
    "background_task = Threads.@spawn begin\n",
    "    while isopen(c)\n",
    "        el = take!(c)\n",
    "        if !isnothing(el)\n",
    "            println(\"Took element $el from channel.\")\n",
    "        else\n",
    "            println(\"Closing channel (saw `nothing`).\")\n",
    "            close(c)\n",
    "        end\n",
    "    end\n",
    "end"
   ]
  },
  {
   "cell_type": "code",
   "execution_count": 14,
   "id": "90c507fe-4c74-45db-b0fa-5b5035f5eb3d",
   "metadata": {
    "tags": []
   },
   "outputs": [],
   "source": [
    "put!(c, 3);"
   ]
  },
  {
   "cell_type": "code",
   "execution_count": 15,
   "id": "f0fa3272-44c7-4153-b87f-cd4c8949cb8c",
   "metadata": {
    "tags": []
   },
   "outputs": [
    {
     "name": "stdout",
     "output_type": "stream",
     "text": [
      "Closing channel (saw `nothing`)."
     ]
    },
    {
     "name": "stdout",
     "output_type": "stream",
     "text": [
      "\n"
     ]
    }
   ],
   "source": [
    "put!(c, nothing);"
   ]
  },
  {
   "cell_type": "code",
   "execution_count": 16,
   "id": "2ec4125d-b5dd-40b1-9a0a-7937a9c16803",
   "metadata": {
    "tags": []
   },
   "outputs": [
    {
     "data": {
      "text/plain": [
       "Task (done) @0x000000010c110e80"
      ]
     },
     "metadata": {},
     "output_type": "display_data"
    }
   ],
   "source": [
    "background_task"
   ]
  },
  {
   "cell_type": "markdown",
   "id": "18758bc8-e76f-4e59-be01-7c7cb854654a",
   "metadata": {},
   "source": [
    "Multiple (two) tasks:"
   ]
  },
  {
   "cell_type": "code",
   "execution_count": 17,
   "id": "269a2c6f-22db-455d-ae2e-a6f63cdb1504",
   "metadata": {
    "tags": []
   },
   "outputs": [],
   "source": [
    "c = Channel{Union{Nothing, Int}}(1)\n",
    "\n",
    "background_task = Threads.@spawn begin\n",
    "    while isopen(c)\n",
    "        el = take!(c)\n",
    "        if !isnothing(el)\n",
    "            println(\"Task1: Took element $el from channel.\")\n",
    "        else\n",
    "            println(\"Task1: Closing channel (saw nothing).\")\n",
    "            close(c)\n",
    "        end\n",
    "    end\n",
    "end\n",
    "\n",
    "putter_task = Threads.@spawn begin\n",
    "    for i in 1:10\n",
    "        println(\"Task2: Putting $i into channel\")\n",
    "        put!(c, i)\n",
    "    end\n",
    "    println(\"Task2: Putting nothing into channel\")\n",
    "    put!(c, nothing)\n",
    "end;"
   ]
  },
  {
   "cell_type": "markdown",
   "id": "6e934ff8-f723-4a0d-812e-99cc07c7ed28",
   "metadata": {},
   "source": [
    "## Example: parallel `findany`"
   ]
  },
  {
   "cell_type": "markdown",
   "id": "56e20836-153c-4e4b-84f8-8e89c0510aa4",
   "metadata": {},
   "source": [
    "`findany(pred, data)`: find **any** element in `data` for which the predicate (`pred`) is true. Return `nothing` if no element meets `pred`.\n",
    "\n",
    "(Compare to e.g. `findfirst(pred, data)`.)"
   ]
  },
  {
   "cell_type": "code",
   "execution_count": 18,
   "id": "3e39e2ee-9d16-4fe5-9f72-110b98e2ca94",
   "metadata": {
    "tags": []
   },
   "outputs": [
    {
     "data": {
      "text/plain": [
       "findany (generic function with 1 method)"
      ]
     },
     "metadata": {},
     "output_type": "display_data"
    }
   ],
   "source": [
    "using ChunkSplitters\n",
    "\n",
    "function safe_put!(c, i)\n",
    "    try\n",
    "        put!(c, i)\n",
    "    catch e\n",
    "        # handle the case that the channel could have been closed in the meantime\n",
    "        e isa InvalidStateException || rethrow()\n",
    "    end\n",
    "end\n",
    "\n",
    "function findany(pred, data; nchunks=Threads.nthreads())\n",
    "    # Channel to synchronize tasks. Will either hold a result (Int) or nothing.\n",
    "    c = Channel{Union{Nothing,Int}}(1)\n",
    "\n",
    "    # One task per chunk\n",
    "    tasks = map(chunks(data, nchunks)) do (chunk_idcs, ichunk)\n",
    "        Threads.@spawn begin\n",
    "            found = false\n",
    "            for i in chunk_idcs\n",
    "                # if the channel is closed, some other task has already found something → stop\n",
    "                if !isopen(c)\n",
    "                    break\n",
    "                end\n",
    "\n",
    "                if pred(data[i])\n",
    "                    # found element, try to put it into the channel\n",
    "                    safe_put!(c, i)\n",
    "                    found = true\n",
    "                    break\n",
    "                end\n",
    "            end\n",
    "            if !found\n",
    "                # the task hasn't found an element in its chunk → put `nothing` into the channel\n",
    "                safe_put!(c, nothing)\n",
    "            end\n",
    "        end\n",
    "    end\n",
    "\n",
    "    # wait until we either have a result or all tasks have finished\n",
    "    cn = 0\n",
    "    result = nothing\n",
    "    while true\n",
    "        num = take!(c)\n",
    "        cn += 1\n",
    "        if num isa Int\n",
    "            result = num\n",
    "            break\n",
    "        elseif cn == nchunks\n",
    "            break\n",
    "        end\n",
    "    end\n",
    "    # close channel to notify all other tasks that they should stop\n",
    "    close(c)\n",
    "\n",
    "    # wait for all tasks to terminate\n",
    "    foreach(wait, tasks)\n",
    "\n",
    "    return result\n",
    "end"
   ]
  },
  {
   "cell_type": "code",
   "execution_count": 22,
   "id": "52e6760f-f63b-4080-b8b6-45d211599a7b",
   "metadata": {
    "tags": []
   },
   "outputs": [
    {
     "data": {
      "text/plain": [
       "5002"
      ]
     },
     "metadata": {},
     "output_type": "display_data"
    }
   ],
   "source": [
    "test = rand(1:10, 10000);\n",
    "\n",
    "function pred(x) # \"expensive\" predicate\n",
    "    sleep(0.1)\n",
    "    x == 10\n",
    "end\n",
    "\n",
    "findany(pred, test)"
   ]
  },
  {
   "cell_type": "code",
   "execution_count": 23,
   "id": "f4aecd2f-bc83-4bed-a2c2-07e2f2356b50",
   "metadata": {
    "tags": []
   },
   "outputs": [
    {
     "name": "stdout",
     "output_type": "stream",
     "text": [
      "  1.726 s (105 allocations: 3.09 KiB)\n"
     ]
    },
    {
     "name": "stdout",
     "output_type": "stream",
     "text": [
      "  203.126 ms (87 allocations: 4.92 KiB)\n"
     ]
    }
   ],
   "source": [
    "using BenchmarkTools\n",
    "\n",
    "@btime findfirst($pred, $test) samples = 5 evals = 3;\n",
    "@btime findany($pred, $test) samples = 5 evals = 3;"
   ]
  },
  {
   "cell_type": "markdown",
   "id": "aec5cfde",
   "metadata": {},
   "source": [
    "# Atomics"
   ]
  },
  {
   "cell_type": "code",
   "execution_count": 36,
   "id": "84f52899",
   "metadata": {},
   "outputs": [
    {
     "data": {
      "text/plain": [
       "Base.Threads.Atomic{Int64}(0)"
      ]
     },
     "metadata": {},
     "output_type": "display_data"
    }
   ],
   "source": [
    "x = Threads.Atomic{Int64}(0)"
   ]
  },
  {
   "cell_type": "code",
   "execution_count": 37,
   "id": "18f1d599",
   "metadata": {},
   "outputs": [
    {
     "data": {
      "text/plain": [
       "2"
      ]
     },
     "metadata": {},
     "output_type": "display_data"
    }
   ],
   "source": [
    "x[] = 2"
   ]
  },
  {
   "cell_type": "code",
   "execution_count": 38,
   "id": "f91e9ed9",
   "metadata": {},
   "outputs": [
    {
     "data": {
      "text/plain": [
       "0"
      ]
     },
     "metadata": {},
     "output_type": "display_data"
    }
   ],
   "source": [
    "x[] = 0"
   ]
  },
  {
   "cell_type": "code",
   "execution_count": 40,
   "id": "d30f3bef",
   "metadata": {},
   "outputs": [
    {
     "data": {
      "text/plain": [
       "5050"
      ]
     },
     "metadata": {},
     "output_type": "display_data"
    }
   ],
   "source": [
    "@sync for i in 1:100\n",
    "    Threads.@spawn Threads.atomic_add!(x, i) # safe, i.e. no races\n",
    "end\n",
    "x[]"
   ]
  },
  {
   "cell_type": "markdown",
   "id": "eaef3007",
   "metadata": {},
   "source": [
    "## Example: parallel `findany`"
   ]
  },
  {
   "cell_type": "code",
   "execution_count": 34,
   "id": "bdbe3a06",
   "metadata": {},
   "outputs": [
    {
     "data": {
      "text/plain": [
       "findany_atomic (generic function with 1 method)"
      ]
     },
     "metadata": {},
     "output_type": "display_data"
    }
   ],
   "source": [
    "using ChunkSplitters\n",
    "\n",
    "function findany_atomic(pred, data; nchunks=Threads.nthreads())\n",
    "    # Atomic values that indicate the result position (if found) and\n",
    "    # the number of tasks that haven't found anything\n",
    "    pos = Threads.Atomic{Int64}(0)\n",
    "    unsuccessful = Threads.Atomic{Int64}(0)\n",
    "\n",
    "    # One task per chunk\n",
    "    tasks = map(chunks(data, nchunks)) do (chunk_idcs, ichunk)\n",
    "        Threads.@spawn begin\n",
    "            found = false\n",
    "            for i in chunk_idcs\n",
    "                # if a different task has already found something → early stop\n",
    "                if pos[] != 0\n",
    "                    break\n",
    "                end\n",
    "\n",
    "                if pred(data[i])\n",
    "                    # found element, store result atomically (informs other tasks)\n",
    "                    Threads.atomic_add!(pos, i)\n",
    "                    found = true\n",
    "                    break\n",
    "                end\n",
    "            end\n",
    "            if !found\n",
    "                # the task hasn't found an element in its chunk\n",
    "                Threads.atomic_add!(unsuccessful, 1)\n",
    "            end\n",
    "        end\n",
    "    end\n",
    "\n",
    "    # wait for all tasks to terminate\n",
    "    foreach(wait, tasks)\n",
    "\n",
    "    if unsuccessful[] == nchunks\n",
    "        # no task has found anything\n",
    "        return nothing\n",
    "    else\n",
    "        # a task has found something\n",
    "        return pos[]\n",
    "    end\n",
    "end"
   ]
  },
  {
   "cell_type": "code",
   "execution_count": 41,
   "id": "169055e0",
   "metadata": {},
   "outputs": [
    {
     "data": {
      "text/plain": [
       "true"
      ]
     },
     "metadata": {},
     "output_type": "display_data"
    }
   ],
   "source": [
    "findany_atomic(pred, test) == findany(pred, test)"
   ]
  },
  {
   "cell_type": "code",
   "execution_count": 35,
   "id": "4d6700c2",
   "metadata": {},
   "outputs": [
    {
     "name": "stdout",
     "output_type": "stream",
     "text": [
      "  1.729 s (104 allocations: 2.99 KiB)\n"
     ]
    },
    {
     "name": "stdout",
     "output_type": "stream",
     "text": [
      "  202.531 ms (92 allocations: 4.98 KiB)\n"
     ]
    },
    {
     "name": "stdout",
     "output_type": "stream",
     "text": [
      "  169.763 ms (67 allocations: 3.93 KiB)\n"
     ]
    }
   ],
   "source": [
    "using BenchmarkTools\n",
    "\n",
    "@btime findfirst($pred, $test) samples = 5 evals = 3;\n",
    "@btime findany($pred, $test) samples = 5 evals = 3;\n",
    "@btime findany_atomic($pred, $test) samples = 5 evals = 3;"
   ]
  }
 ],
 "metadata": {
  "kernelspec": {
   "display_name": "Julia 1.10.0",
   "language": "julia",
   "name": "julia-1.10"
  },
  "language_info": {
   "file_extension": ".jl",
   "mimetype": "application/julia",
   "name": "julia",
   "version": "1.10.0"
  }
 },
 "nbformat": 4,
 "nbformat_minor": 5
}
