{
 "cells": [
  {
   "cell_type": "markdown",
   "id": "2d8d5f99-d7ee-4c54-96df-95943efcb680",
   "metadata": {
    "tags": []
   },
   "source": [
    "# Generic Programming"
   ]
  },
  {
   "cell_type": "markdown",
   "id": "0717e23b-a89e-4923-9a8c-ac551813a600",
   "metadata": {
    "tags": []
   },
   "source": [
    "## Example: Vandermonde matrix\n",
    "\\begin{align}V=\\begin{bmatrix}1&\\alpha _{1}&\\alpha _{1}^{2}&\\dots &\\alpha _{1}^{n-1}\\\\1&\\alpha _{2}&\\alpha _{2}^{2}&\\dots &\\alpha _{2}^{n-1}\\\\1&\\alpha _{3}&\\alpha _{3}^{2}&\\dots &\\alpha _{3}^{n-1}\\\\\\vdots &\\vdots &\\vdots &\\ddots &\\vdots \\\\1&\\alpha _{m}&\\alpha _{m}^{2}&\\dots &\\alpha _{m}^{n-1}\\end{bmatrix}\\end{align}"
   ]
  },
  {
   "cell_type": "markdown",
   "id": "c4689221-918e-4db5-8668-66382e96acb5",
   "metadata": {},
   "source": [
    "Here is a straightforward Julia implementation"
   ]
  },
  {
   "cell_type": "code",
   "execution_count": null,
   "id": "e9a95d15-f3bb-4b80-aaf2-635206fcb3d9",
   "metadata": {},
   "outputs": [],
   "source": [
    "function vander_naive(x)\n",
    "    m = length(x)\n",
    "    V = zeros(m,m)\n",
    "\n",
    "    # first column\n",
    "    for j in 1:m\n",
    "        V[j,1] = 1.0\n",
    "    end\n",
    "\n",
    "    # all other columns\n",
    "    for i in 2:m\n",
    "        for j in 1:m\n",
    "            V[j,i] = x[j] * V[j,i-1]\n",
    "        end\n",
    "    end\n",
    "    return V\n",
    "end"
   ]
  },
  {
   "cell_type": "code",
   "execution_count": null,
   "id": "e2c97893-a7c8-4ed7-9e91-d4af9b63da40",
   "metadata": {},
   "outputs": [],
   "source": [
    "vander_naive(1:3)"
   ]
  },
  {
   "cell_type": "code",
   "execution_count": null,
   "id": "fd6f1041",
   "metadata": {},
   "outputs": [],
   "source": [
    "function vander(x::AbstractVector{T}) where T\n",
    "    m = length(x)\n",
    "    V = Matrix{T}(undef, m, m) # not zeros(m,m)\n",
    "\n",
    "    # first column\n",
    "    for j in 1:m\n",
    "        V[j,1] = one(T) # not 1.0\n",
    "    end\n",
    "\n",
    "    # all other columns\n",
    "    for i in 2:m\n",
    "        for j in 1:m\n",
    "            V[j,i] = x[j] * V[j,i-1]\n",
    "        end\n",
    "    end\n",
    "    return V\n",
    "end"
   ]
  },
  {
   "cell_type": "code",
   "execution_count": null,
   "id": "7ad55da9",
   "metadata": {},
   "outputs": [],
   "source": [
    "vander(1:3)"
   ]
  },
  {
   "cell_type": "code",
   "execution_count": null,
   "id": "795005c1-b1d7-4ea9-88c0-1884ff686109",
   "metadata": {},
   "outputs": [],
   "source": [
    "vander([1.0, 2.0, 3.0])"
   ]
  },
  {
   "cell_type": "markdown",
   "id": "d3c51fc5-a848-4991-93bb-2677b82af233",
   "metadata": {},
   "source": [
    "### Python / numpy\n",
    "\n",
    "<p><img src=\"./imgs/numpy_vander.png\" alt=\"drawing\" width=\"1500\"/></p>\n",
    "\n",
    "(The source code for this function is [here](https://github.com/numpy/numpy/blob/v1.16.1/numpy/lib/twodim_base.py#L475-L563). It calls `np.multiply.accumulate` which is implemented in C [here](https://github.com/numpy/numpy/blob/deea4983aedfa96905bbaee64e3d1de84144303f/numpy/core/src/umath/ufunc_object.c#L3678). However, this code doesn't actually perform the computation, it basically only checks types and stuff. The actual kernel that gets called is [here](https://github.com/numpy/numpy/blob/deea4983aedfa96905bbaee64e3d1de84144303f/numpy/core/src/umath/loops.c.src#L1742). This isn't even C code but a template for C code which is used to generate type specific kernels.)"
   ]
  },
  {
   "cell_type": "markdown",
   "id": "0761a50a-6589-4c41-a5ec-e03ba7f032d7",
   "metadata": {},
   "source": [
    "### Quick speed comparison\n",
    "\n",
    "<img src=\"./imgs/vandermonde.svg\" alt=\"drawing\" width=\"600\"/>\n",
    "\n",
    "Note that the clean and concise Julia implementation is **beating numpy's C implementation for small matrices** and is **on-par for large matrix sizes**."
   ]
  },
  {
   "cell_type": "markdown",
   "id": "9c973552-ea7a-498f-ae28-be0a9d5dc213",
   "metadata": {},
   "source": [
    "### Genericity: Beyond numbers"
   ]
  },
  {
   "cell_type": "markdown",
   "id": "24682806-71bd-4002-9024-f00682f1e712",
   "metadata": {},
   "source": [
    "Our Julia code is ***generic*** and works for ***any element type `T`*** that implements\n",
    "\n",
    "* `*` (multiplication)\n",
    "* `one(T)` (identity under multiplication)"
   ]
  },
  {
   "cell_type": "markdown",
   "id": "5e4db3d2-ed58-467e-b204-c3edba9d00dc",
   "metadata": {},
   "source": [
    "The type doesn't even have to be numeric!"
   ]
  },
  {
   "cell_type": "code",
   "execution_count": null,
   "id": "a59cd3af-c1c4-436d-afd0-c6c69b349d5b",
   "metadata": {},
   "outputs": [],
   "source": [
    "vander([\"A\", \"B\", \"C\", \"D\"])"
   ]
  },
  {
   "cell_type": "markdown",
   "id": "58c0e84b-058d-4083-8e82-895496d654fc",
   "metadata": {},
   "source": [
    "Let's do something more useful:"
   ]
  },
  {
   "cell_type": "code",
   "execution_count": null,
   "id": "5919a579-b296-4c4d-b219-d7e3f6ba1c74",
   "metadata": {},
   "outputs": [],
   "source": [
    "using Symbolics"
   ]
  },
  {
   "cell_type": "code",
   "execution_count": null,
   "id": "8737fc3b-8646-40ee-98a2-5d44e3993235",
   "metadata": {},
   "outputs": [],
   "source": [
    "@variables a b c d e"
   ]
  },
  {
   "cell_type": "code",
   "execution_count": null,
   "id": "1b444bdc-74fa-4703-8ac6-d2e364cad9d3",
   "metadata": {},
   "outputs": [],
   "source": [
    "typeof(a)"
   ]
  },
  {
   "cell_type": "code",
   "execution_count": null,
   "id": "4f3a0b40-e50f-4f79-942f-338b6a47b155",
   "metadata": {},
   "outputs": [],
   "source": [
    "one(a)"
   ]
  },
  {
   "cell_type": "code",
   "execution_count": null,
   "id": "d44893c6-26dc-4863-a669-320d465b6614",
   "metadata": {},
   "outputs": [],
   "source": [
    "a * a"
   ]
  },
  {
   "cell_type": "code",
   "execution_count": null,
   "id": "69be6e40-a389-49dc-a09c-d3f00b2808fa",
   "metadata": {},
   "outputs": [],
   "source": [
    "v = vander([a,b,c,d,e])"
   ]
  },
  {
   "cell_type": "code",
   "execution_count": null,
   "id": "89adaa59-727b-40d0-9cc4-71c8c91c99fe",
   "metadata": {},
   "outputs": [],
   "source": [
    "substitute(v, Dict(b => 2, d => 4))"
   ]
  },
  {
   "cell_type": "markdown",
   "id": "219354ea-e66e-49f0-8e55-3d72591e47c4",
   "metadata": {},
   "source": [
    "## \"Emergent\" Features: Differential equation solving with uncertainty"
   ]
  },
  {
   "cell_type": "code",
   "execution_count": null,
   "id": "4374888b-23ff-4adb-9d1f-2d85ff6cbafd",
   "metadata": {
    "tags": []
   },
   "outputs": [],
   "source": [
    "using OrdinaryDiffEqTsit5, Measurements, Plots\n",
    "\n",
    "#Half-life of Carbon-14 is 5730 years.\n",
    "c = 5.730 ± 2\n",
    "\n",
    "#Setup\n",
    "u0 = 1.0 ± 0.1\n",
    "tspan = (0.0, 1.0)\n",
    "\n",
    "#Define the problem\n",
    "radioactivedecay(u,p,t) = -c*u\n",
    "\n",
    "#Pass to solver\n",
    "prob = ODEProblem(radioactivedecay,u0,tspan)\n",
    "sol = solve(prob, Tsit5(), reltol=1e-8, abstol=1e-8);\n",
    "\n",
    "plot(sol.t, sol.u, ylabel=\"u(t)\", xlabel=\"t\", lw=2, legend=false, frame=:box)"
   ]
  },
  {
   "cell_type": "markdown",
   "id": "8c878ccc-1b85-43a5-83e6-9fa3acf748c0",
   "metadata": {},
   "source": [
    "**Historical note**: In some sense, **Julia implemented that feature by itself**. The authors of Measurements.jl and DifferentialEquations.jl [never had any collabration on this](https://discourse.julialang.org/t/differentialequations-jl-and-measurements-jl/6350)."
   ]
  }
 ],
 "metadata": {
  "kernelspec": {
   "display_name": "Julia 1.10.5",
   "language": "julia",
   "name": "julia-1.10"
  },
  "language_info": {
   "file_extension": ".jl",
   "mimetype": "application/julia",
   "name": "julia",
   "version": "1.10.5"
  }
 },
 "nbformat": 4,
 "nbformat_minor": 5
}
