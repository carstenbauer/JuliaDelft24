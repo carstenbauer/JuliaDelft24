{
 "cells": [
  {
   "cell_type": "markdown",
   "id": "6e364677-1e72-4a36-8a15-28f18a70c3bb",
   "metadata": {},
   "source": [
    "# User Code is Fast"
   ]
  },
  {
   "cell_type": "markdown",
   "id": "085d47c5-b981-4422-bd26-dc02a10be794",
   "metadata": {},
   "source": [
    "**In Julia, user code and user types can be just as fast as built-in or library code.**\n",
    "\n",
    "If you know what you're doing, you can typically match the performance of optimized C/Fortran code.\n",
    "\n",
    "In the following, we illustrate this with two very basic examples."
   ]
  },
  {
   "cell_type": "markdown",
   "id": "ba213d48-00cb-44ad-b86c-886e6518b6f1",
   "metadata": {},
   "source": [
    "## User code: Summation"
   ]
  },
  {
   "cell_type": "code",
   "execution_count": null,
   "id": "b87ffdb1-61b0-4db0-956b-e2ca24291885",
   "metadata": {},
   "outputs": [],
   "source": [
    "using BenchmarkTools"
   ]
  },
  {
   "cell_type": "code",
   "execution_count": null,
   "id": "3656ae42-121c-49e3-8938-f57c771db0cf",
   "metadata": {},
   "outputs": [],
   "source": [
    "x = rand(10^7); # some numbers to be summed up"
   ]
  },
  {
   "cell_type": "markdown",
   "id": "bf167f83-7ee1-4400-a51a-e9b1bd568d51",
   "metadata": {},
   "source": [
    "### C"
   ]
  },
  {
   "cell_type": "code",
   "execution_count": null,
   "id": "40701d80-eb6e-4238-b81d-6d454427ac0f",
   "metadata": {},
   "outputs": [],
   "source": [
    "# What this does: compile simple C sum function into a shared library by piping C code into gcc\n",
    "\n",
    "c_code = \"\"\"\n",
    "#include <stddef.h>\n",
    "double c_sum(size_t n, double *X) {\n",
    "    double s = 0.0;\n",
    "    for (size_t i = 0; i < n; ++i) {\n",
    "        s += X[i];\n",
    "    }\n",
    "    return s;\n",
    "}\n",
    "\"\"\";\n",
    "\n",
    "using Libdl\n",
    "Clib = tempname() * \".\" * Libdl.dlext\n",
    "\n",
    "open(`gcc -fPIC -O3 -msse3 -xc -shared -o $Clib -`, \"w\") do f\n",
    "    print(f, c_code)\n",
    "end"
   ]
  },
  {
   "cell_type": "code",
   "execution_count": null,
   "id": "04ba214f-2604-4f05-b23a-14fbfe61604b",
   "metadata": {},
   "outputs": [],
   "source": [
    "# Readily call the function `c_sum` in the shared library\n",
    "\n",
    "c_sum(X::Array{Float64}) = @ccall Clib.c_sum(length(X)::Csize_t, X::Ptr{Float64})::Float64"
   ]
  },
  {
   "cell_type": "code",
   "execution_count": null,
   "id": "c5ed3866-8875-4547-8a29-c2b94670f091",
   "metadata": {},
   "outputs": [],
   "source": [
    "c_sum(x)"
   ]
  },
  {
   "cell_type": "code",
   "execution_count": null,
   "id": "41754c64-f3af-4335-8b91-1240ae704b8c",
   "metadata": {},
   "outputs": [],
   "source": [
    "c_sum(x) ≈ sum(x)"
   ]
  },
  {
   "cell_type": "markdown",
   "id": "86bba670-01ae-4f17-8e48-c7c1c3a43268",
   "metadata": {},
   "source": [
    "### Julia"
   ]
  },
  {
   "cell_type": "code",
   "execution_count": null,
   "id": "70a409a2-625e-489d-942c-37441653ad2d",
   "metadata": {},
   "outputs": [],
   "source": [
    "function jl_sum(A)\n",
    "    s = zero(eltype(A))\n",
    "    for a in A\n",
    "        s += a\n",
    "    end\n",
    "    return s\n",
    "end"
   ]
  },
  {
   "cell_type": "code",
   "execution_count": null,
   "id": "dbcca148-94db-49e1-9b37-5eda958af512",
   "metadata": {},
   "outputs": [],
   "source": [
    "@btime c_sum($x) samples = 100 evals = 10;\n",
    "@btime jl_sum($x) samples = 100 evals = 10;"
   ]
  },
  {
   "cell_type": "markdown",
   "id": "f25db5da-7e03-4f03-9ad9-de5e9f6df624",
   "metadata": {},
   "source": [
    "## User type: Diagonal matrix"
   ]
  },
  {
   "cell_type": "markdown",
   "id": "362713b1-4419-4c9b-befe-e450d63ddf74",
   "metadata": {},
   "source": [
    "Let's create a simple custom `DiagonalMatrix` type that can represent square diagonal matrices, i.e.\n",
    "\n",
    "$$ D = \\left( \\begin{matrix} x & 0 & 0 & 0 \\\\ 0 & y & 0 & 0 \\\\ 0 & 0 & z & 0 \\\\ 0 & 0 & 0 & \\ddots \\end{matrix} \\right) $$"
   ]
  },
  {
   "cell_type": "code",
   "execution_count": null,
   "id": "9ba1e6e3-bf8f-4dd0-bfa1-fcd2fe27225c",
   "metadata": {},
   "outputs": [],
   "source": [
    "struct DiagonalMatrix{T} <: AbstractArray{T,2}\n",
    "    diag::Vector{T}\n",
    "end"
   ]
  },
  {
   "cell_type": "markdown",
   "id": "eca1ba7a-eef8-4603-8118-3f6ff1329b67",
   "metadata": {},
   "source": [
    "We integrate our `DiagonalMatrix` into Julia's type hierarchy by making it a subtype of `AbstractMatrix`. To actually make it behave like a matrix (a two-dimensional array) we implement (parts of) the [`AbstractArray` interface](https://docs.julialang.org/en/v1/manual/interfaces/#man-interface-array-1)."
   ]
  },
  {
   "cell_type": "code",
   "execution_count": null,
   "id": "eeea4753-ca36-459e-be5d-dbea3cb82c9a",
   "metadata": {},
   "outputs": [],
   "source": [
    "import Base: getindex, setindex!, size\n",
    "\n",
    "function getindex(D::DiagonalMatrix, i::Int, j::Int)\n",
    "    if i == j\n",
    "        return D.diag[i]\n",
    "    else\n",
    "        return zero(eltype(D))\n",
    "    end\n",
    "end\n",
    "\n",
    "function setindex!(D::DiagonalMatrix, v, i::Int, j::Int)\n",
    "    if i == j\n",
    "        D.diag[i] = v\n",
    "    else\n",
    "        throw(ArgumentError(\"cannot set off-diagonal entry ($i, $j)\"))\n",
    "    end\n",
    "    return v\n",
    "end\n",
    "\n",
    "function size(D::DiagonalMatrix)\n",
    "    n = length(D.diag)\n",
    "    return (n, n)\n",
    "end"
   ]
  },
  {
   "cell_type": "code",
   "execution_count": null,
   "id": "e8b3d414-7040-4c9b-a007-7052ef90c723",
   "metadata": {},
   "outputs": [],
   "source": [
    "D = DiagonalMatrix([1,2,3])"
   ]
  },
  {
   "cell_type": "markdown",
   "id": "49e47fb6-d68a-4a9e-8cc6-6e6653c28c37",
   "metadata": {},
   "source": [
    "Note how it's automagically pretty printed (despite the fact that we never defined any special printing)!"
   ]
  },
  {
   "cell_type": "markdown",
   "id": "0ae75bdf-0b76-4eb0-8c3b-6057c1829e00",
   "metadata": {},
   "source": [
    "But that's not it. All kinds of different functions now \"just work\"."
   ]
  },
  {
   "cell_type": "code",
   "execution_count": null,
   "id": "c3cc38f0-5976-447c-8165-af18a0af61fb",
   "metadata": {},
   "outputs": [],
   "source": [
    "D + D # addition"
   ]
  },
  {
   "cell_type": "code",
   "execution_count": null,
   "id": "260ed650-d503-4223-9b48-ae51ca6fe4a1",
   "metadata": {},
   "outputs": [],
   "source": [
    "D * D # multiplication"
   ]
  },
  {
   "cell_type": "code",
   "execution_count": null,
   "id": "351732fe-7cad-46f9-86ff-d8a51fc81695",
   "metadata": {},
   "outputs": [],
   "source": [
    "inv(D) # inversion"
   ]
  },
  {
   "cell_type": "code",
   "execution_count": null,
   "id": "926f4791-2e38-451d-8925-27ff0ea04f8b",
   "metadata": {},
   "outputs": [],
   "source": [
    "using LinearAlgebra\n",
    "eigen(D) # eigensolver"
   ]
  },
  {
   "cell_type": "markdown",
   "id": "0bcfced6-399d-48bd-990e-2925a0acd87b",
   "metadata": {},
   "source": [
    "Why does all of this work?\n",
    "\n",
    "\n",
    "Because `DiagonalMatrix <: AbstractArray` and it hence shares generic fallback methods (that only rely on `getindex`, `setindex`, and `size`) with other arrays."
   ]
  },
  {
   "cell_type": "markdown",
   "id": "36002d48-9bfe-4ac8-9cc8-e9117a64386e",
   "metadata": {},
   "source": [
    "Of course, so far, these operations have suboptimal performance because they don't utilize the special structure inherent to our `DiagonalMatrix`. Let's implement a more efficient addition for our diagonal matrix type."
   ]
  },
  {
   "cell_type": "code",
   "execution_count": null,
   "id": "455f1224-d9a9-4f0e-9bac-010b36e051de",
   "metadata": {},
   "outputs": [],
   "source": [
    "import Base: +\n",
    "\n",
    "+(Da::DiagonalMatrix, Db::DiagonalMatrix) = DiagonalMatrix(Da.diag + Db.diag)"
   ]
  },
  {
   "cell_type": "markdown",
   "id": "387f4eed-db26-4a7e-9a14-cc4b97a6f483",
   "metadata": {},
   "source": [
    "Let's compare our very rudamentary `DiagonalMatrix` against the standard `Diagonal` type that ships in the `LinearAlgebra` standard library."
   ]
  },
  {
   "cell_type": "code",
   "execution_count": null,
   "id": "4c8672e8-c807-4c6c-9315-5bf4432bec68",
   "metadata": {},
   "outputs": [],
   "source": [
    "using BenchmarkTools\n",
    "using LinearAlgebra\n",
    "\n",
    "x = rand(1000);\n",
    "Djl = Diagonal(x)\n",
    "D = DiagonalMatrix(x)\n",
    "\n",
    "@btime $Djl + $Djl;\n",
    "@btime $D + $D;"
   ]
  },
  {
   "cell_type": "markdown",
   "id": "c7adf63d-e38f-4dfe-a58e-0d74080f8717",
   "metadata": {},
   "source": [
    "There is nothing special about built-in types. In fact, [they are implemented in essentially the same way](https://github.com/JuliaLang/julia/blob/master/stdlib/LinearAlgebra/src/diagonal.jl#L5)!"
   ]
  }
 ],
 "metadata": {
  "kernelspec": {
   "display_name": "Julia 1.10.5",
   "language": "julia",
   "name": "julia-1.10"
  },
  "language_info": {
   "file_extension": ".jl",
   "mimetype": "application/julia",
   "name": "julia",
   "version": "1.10.5"
  }
 },
 "nbformat": 4,
 "nbformat_minor": 5
}
