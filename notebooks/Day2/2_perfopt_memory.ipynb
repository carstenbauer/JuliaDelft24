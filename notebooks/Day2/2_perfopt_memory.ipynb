{
 "cells": [
  {
   "cell_type": "markdown",
   "id": "3364e376-2f08-4216-bfd1-238f20070155",
   "metadata": {},
   "source": [
    "# Optimizing Performance (Single-Core)"
   ]
  },
  {
   "cell_type": "markdown",
   "id": "b71244a1-a9f0-4dc4-a54a-afed12d191f2",
   "metadata": {},
   "source": [
    "## Memory allocations"
   ]
  },
  {
   "cell_type": "markdown",
   "id": "dce1f4d9-4cba-402e-878a-7ccde539bba0",
   "metadata": {},
   "source": [
    "### Allocating heap memory vs floating point operations\n",
    "\n",
    "Crude benchmark:"
   ]
  },
  {
   "cell_type": "code",
   "execution_count": null,
   "id": "4cabb3bc-3ce2-4e3d-a5e2-d3d0d7f012ae",
   "metadata": {},
   "outputs": [],
   "source": [
    "using BenchmarkTools"
   ]
  },
  {
   "cell_type": "code",
   "execution_count": null,
   "id": "279d8164-4829-4a0c-9bc1-4e3c62cd9cd9",
   "metadata": {
    "tags": []
   },
   "outputs": [],
   "source": [
    "@btime Vector{Float64}(undef, 10); # allocate uninitialized array"
   ]
  },
  {
   "cell_type": "code",
   "execution_count": null,
   "id": "1e8e8eaf-82a2-4ff7-bfd9-70825bbcedaf",
   "metadata": {
    "tags": []
   },
   "outputs": [],
   "source": [
    "@btime for _ in 1:10\n",
    "    1.2 + 3.4 # floating point operation\n",
    "end"
   ]
  },
  {
   "cell_type": "markdown",
   "id": "f8641bb5-1cb3-4ee8-9fed-bb921434cbe5",
   "metadata": {},
   "source": [
    "**Allocating memory is costly.**"
   ]
  },
  {
   "cell_type": "markdown",
   "id": "005d14fa-6dac-47bd-94f1-ee335c392dec",
   "metadata": {},
   "source": [
    "And freeing unused memory can be costly as well, because it triggers Julia's **garbage collector (GC)**. "
   ]
  },
  {
   "cell_type": "code",
   "execution_count": null,
   "id": "466d0f7a-f9b0-4918-a772-c6dc8dfe119f",
   "metadata": {
    "tags": []
   },
   "outputs": [],
   "source": [
    "@btime GC.gc();"
   ]
  },
  {
   "cell_type": "markdown",
   "id": "0164f97e-1ba8-43c8-962f-1eb226c953a8",
   "metadata": {
    "tags": []
   },
   "source": [
    "Performance rule: **Avoid (repeated) allocations in performance critical parts.**"
   ]
  },
  {
   "cell_type": "markdown",
   "id": "6a7972ae-7a51-4736-a5ef-b42bc9c29f70",
   "metadata": {},
   "source": [
    "### Beware of: \"array computations\""
   ]
  },
  {
   "cell_type": "code",
   "execution_count": null,
   "id": "066fa44b-215e-4f14-bb98-0f194c886769",
   "metadata": {},
   "outputs": [],
   "source": [
    "function f!(x)\n",
    "    y = copy(x)\n",
    "    for i in 1:100_000\n",
    "        y = y + 2*y\n",
    "    end\n",
    "    copy!(x, y)\n",
    "end"
   ]
  },
  {
   "cell_type": "code",
   "execution_count": null,
   "id": "700ed3a2-815e-4a56-a680-89c099fba54d",
   "metadata": {},
   "outputs": [],
   "source": [
    "@btime f!(x) setup = (x = rand(3));"
   ]
  },
  {
   "cell_type": "markdown",
   "id": "1ef4552d-fc2c-4861-9806-8e4170744b3e",
   "metadata": {},
   "source": [
    "* Huge number of allocations!\n",
    "* Bad sign if they **scale with the number of iterations**!"
   ]
  },
  {
   "cell_type": "markdown",
   "id": "f6a10c23-4d41-4623-9433-b2e116fe0b3e",
   "metadata": {},
   "source": [
    "#### Fix 1: Write explicit loops"
   ]
  },
  {
   "cell_type": "code",
   "execution_count": null,
   "id": "df070cfb-c3d6-4959-bf95-5f16faa58a36",
   "metadata": {},
   "outputs": [],
   "source": [
    "function f_loop!(x)\n",
    "    for i in 1:100_000\n",
    "        for k in eachindex(x)\n",
    "            x[k] = x[k] + 2 * x[k]\n",
    "        end\n",
    "    end\n",
    "end\n",
    "\n",
    "@btime f_loop!(x) setup = (x = rand(3));"
   ]
  },
  {
   "cell_type": "markdown",
   "id": "d1890ed2-ef79-4bd3-b849-d268297e2f4f",
   "metadata": {},
   "source": [
    "#### Fix 2: Broadcasting / syntactic loop fusion"
   ]
  },
  {
   "cell_type": "code",
   "execution_count": null,
   "id": "82cb247f-bf7d-4164-8f5d-e3f8094c5eb4",
   "metadata": {
    "tags": []
   },
   "outputs": [],
   "source": [
    "x = rand(3);\n",
    "y = rand(3);"
   ]
  },
  {
   "cell_type": "code",
   "execution_count": null,
   "id": "d132f404-ff7a-48e9-ace7-fbd509a7d393",
   "metadata": {},
   "outputs": [],
   "source": [
    "x .* y # \"element-wise\" application"
   ]
  },
  {
   "cell_type": "code",
   "execution_count": null,
   "id": "10a09341-03b1-4377-b126-629febf667dc",
   "metadata": {},
   "outputs": [],
   "source": [
    "sin(x)"
   ]
  },
  {
   "cell_type": "code",
   "execution_count": null,
   "id": "0c8d6de8-8631-4563-83d9-55d510f59f21",
   "metadata": {},
   "outputs": [],
   "source": [
    "sin.(x) # \"element-wise\" application"
   ]
  },
  {
   "cell_type": "markdown",
   "id": "58320def-fa37-4c41-8d7e-6da7b3977ad5",
   "metadata": {},
   "source": [
    "**Also works for user-defined functions!**"
   ]
  },
  {
   "cell_type": "code",
   "execution_count": null,
   "id": "2ca5280f-72a0-48da-87b1-a1b56b41ab52",
   "metadata": {},
   "outputs": [],
   "source": [
    "somefunc(x) = exp(2*x)"
   ]
  },
  {
   "cell_type": "code",
   "execution_count": null,
   "id": "20949fa3-cc93-47e8-932e-8c513f2ad889",
   "metadata": {},
   "outputs": [],
   "source": [
    "somefunc.(x)"
   ]
  },
  {
   "cell_type": "code",
   "execution_count": null,
   "id": "cbb1932c-f4aa-47b1-9860-b2b3477e66d3",
   "metadata": {},
   "outputs": [],
   "source": [
    "function f_broadcast!(x)\n",
    "    for i in 1:100_000\n",
    "        x .= x .+ 2 .* x\n",
    "        # @. x = x + 2 * x\n",
    "    end\n",
    "end\n",
    "\n",
    "@btime f_broadcast!(x) setup = (x = rand(3));"
   ]
  },
  {
   "cell_type": "markdown",
   "id": "495d7ab9-8422-4708-9877-dbeaa0f4b127",
   "metadata": {},
   "source": [
    "Note: One also needs to broadcast the assignment (`=`) for it to be fused with the other operations."
   ]
  },
  {
   "cell_type": "markdown",
   "id": "fa63df0a-a21d-45d7-aaf5-dc3ecf24f597",
   "metadata": {},
   "source": [
    "(Recommended read: https://julialang.org/blog/2017/01/moredots/)"
   ]
  },
  {
   "cell_type": "markdown",
   "id": "c06a3275-afbc-4afb-b8a2-b403e6e19dcd",
   "metadata": {},
   "source": [
    "### Beware of: Array slicing"
   ]
  },
  {
   "cell_type": "markdown",
   "id": "2006ef73-8e16-40ed-a83a-e4f238aabdf4",
   "metadata": {},
   "source": [
    "By default, array-slicing creates copies!"
   ]
  },
  {
   "cell_type": "code",
   "execution_count": null,
   "id": "06c95379-6ef8-4644-b8e0-2023a03ed2d1",
   "metadata": {},
   "outputs": [],
   "source": [
    "X = rand(3,3);"
   ]
  },
  {
   "cell_type": "code",
   "execution_count": null,
   "id": "13e9e046-73aa-423c-91c5-bbbd8b518943",
   "metadata": {},
   "outputs": [],
   "source": [
    "# add up the (first three) columns of Y\n",
    "add_cols(Y) = Y[:,1] .+ Y[:,2] .+ Y[:,3]"
   ]
  },
  {
   "cell_type": "code",
   "execution_count": null,
   "id": "14bd44b9-2b48-441e-ab35-68195e58ded6",
   "metadata": {
    "tags": []
   },
   "outputs": [],
   "source": [
    "@btime add_cols($X);"
   ]
  },
  {
   "cell_type": "markdown",
   "id": "f6eedbe0-5262-409c-9ffa-830228d8ce8b",
   "metadata": {},
   "source": [
    "#### Fix: Views"
   ]
  },
  {
   "cell_type": "code",
   "execution_count": null,
   "id": "846e2f1b-ef0d-4754-8529-3bd7de07493f",
   "metadata": {},
   "outputs": [],
   "source": [
    "add_cols_views(Y) = @views Y[:,1] .+ Y[:,2] .+ Y[:,3]\n",
    "\n",
    "@btime add_cols_views($X);"
   ]
  },
  {
   "cell_type": "markdown",
   "id": "524d16a7-be2b-415d-acdd-7b4f430e69a1",
   "metadata": {},
   "source": [
    "(Note that [copying data isn't always bad](https://docs.julialang.org/en/v1/manual/performance-tips/#Copying-data-is-not-always-bad) and benchmarking is necessary.)"
   ]
  },
  {
   "cell_type": "markdown",
   "id": "6469c085-9d75-4f13-a787-6e81cc1c4902",
   "metadata": {},
   "source": [
    "### Heap and stack"
   ]
  },
  {
   "cell_type": "markdown",
   "id": "f3cf173d-d40d-4118-8a0d-430d886b9e43",
   "metadata": {},
   "source": [
    "Let's take a quick look at (virtual) **memory** of a process:\n",
    "\n",
    "<br>\n",
    "<img src=\"./imgs/stack_heap.svg\" width=\"550\">"
   ]
  },
  {
   "cell_type": "markdown",
   "id": "56e94c35-4b74-4983-a7ac-ecfba2f7fc8d",
   "metadata": {},
   "source": [
    "* **Heap:**\n",
    "  * large memory pool (many GB)\n",
    "  * can be modified almost arbitrarily (via pointers)\n",
    "  * **allocating memory is slow**\n",
    "* **Stack:**\n",
    "  * very much restriced, e.g. limited size (few MB) and LIFO (last in, first out) structure\n",
    "  * **allocating memory is fast**"
   ]
  },
  {
   "cell_type": "markdown",
   "id": "4fe2e17c-9f5e-477a-9aa6-596faa5b3a98",
   "metadata": {},
   "source": [
    "Comments:\n",
    "\n",
    "* There is `Libc.malloc` and `Libc.free`, but they generally should not be used.\n",
    "* Julia doesn't have a [libc `alloca`](https://man7.org/linux/man-pages/man3/alloca.3.html) pendant for explicitly allocating stack memory.    \n",
    "(But you can roll your own \"stack\" with [Bumper.jl](https://github.com/MasonProtter/Bumper.jl), if you know what you're doing.)"
   ]
  },
  {
   "cell_type": "markdown",
   "id": "6bbaf13a-1c93-4348-9e06-0742312c3930",
   "metadata": {},
   "source": [
    "#### Mutable vs immutable types"
   ]
  },
  {
   "cell_type": "code",
   "execution_count": null,
   "id": "44487556-7530-4b39-9912-43f0f6de9c99",
   "metadata": {},
   "outputs": [],
   "source": [
    "struct Immutable\n",
    "    x::Int64\n",
    "end"
   ]
  },
  {
   "cell_type": "code",
   "execution_count": null,
   "id": "7719cb44-5644-43a8-87eb-29d000b8d5ff",
   "metadata": {
    "tags": []
   },
   "outputs": [],
   "source": [
    "n = Immutable(0)"
   ]
  },
  {
   "cell_type": "code",
   "execution_count": null,
   "id": "0d861d2d-47f6-4b34-94b8-dd8838423ac5",
   "metadata": {
    "tags": []
   },
   "outputs": [],
   "source": [
    "n.x = 4 # immutable, thus errors"
   ]
  },
  {
   "cell_type": "code",
   "execution_count": null,
   "id": "766cf955-2631-4746-832b-cffcc28b0af4",
   "metadata": {},
   "outputs": [],
   "source": [
    "function gauss_sum_immutable()\n",
    "    n = Immutable(0)\n",
    "    for i in 1:100_000\n",
    "        n = Immutable(n.x + i)\n",
    "    end\n",
    "    return n\n",
    "end"
   ]
  },
  {
   "cell_type": "code",
   "execution_count": null,
   "id": "fccf09e8-d1d2-437a-a295-faaeca9c1f77",
   "metadata": {},
   "outputs": [],
   "source": [
    "@btime gauss_sum_immutable();"
   ]
  },
  {
   "cell_type": "markdown",
   "id": "66f524f0-41a5-4b3c-bbe3-71d1526cf7fd",
   "metadata": {},
   "source": [
    "This is fast! In fact, the entire computation has been \"compiled away\":"
   ]
  },
  {
   "cell_type": "code",
   "execution_count": null,
   "id": "ae543a5d-c4c0-4e89-8455-152a3fa5781f",
   "metadata": {
    "tags": []
   },
   "outputs": [],
   "source": [
    "@code_llvm debuginfo=:none gauss_sum_immutable()"
   ]
  },
  {
   "cell_type": "markdown",
   "id": "157d77f7-7a2b-4156-9c1a-f7d716e64f42",
   "metadata": {},
   "source": [
    "Immutability is a powerful property for the compiler!"
   ]
  },
  {
   "cell_type": "code",
   "execution_count": null,
   "id": "b49b0eed-bd65-4858-b91a-d7a4a4692a61",
   "metadata": {},
   "outputs": [],
   "source": [
    "mutable struct Mutable\n",
    "    x::Int64\n",
    "    # ...\n",
    "end"
   ]
  },
  {
   "cell_type": "code",
   "execution_count": null,
   "id": "aacfafff-4076-4e22-b835-063b97835dca",
   "metadata": {},
   "outputs": [],
   "source": [
    "m = Mutable(1)"
   ]
  },
  {
   "cell_type": "code",
   "execution_count": null,
   "id": "932d4e99-ff55-42a7-9cdc-3881fe0a8879",
   "metadata": {},
   "outputs": [],
   "source": [
    "m.x = 4 # mutability"
   ]
  },
  {
   "cell_type": "code",
   "execution_count": null,
   "id": "80b1c1da-b2e7-4a36-bc69-0b029c3b2efb",
   "metadata": {},
   "outputs": [],
   "source": [
    "function gauss_sum_mutable()\n",
    "    m = Mutable(0)\n",
    "    for i in 1:100_000\n",
    "        m = Mutable(m.x + i)\n",
    "    end\n",
    "    return m\n",
    "end"
   ]
  },
  {
   "cell_type": "code",
   "execution_count": null,
   "id": "e573e1dd-50b5-4860-9294-023c478eb857",
   "metadata": {
    "tags": []
   },
   "outputs": [],
   "source": [
    "gauss_sum_mutable()"
   ]
  },
  {
   "cell_type": "code",
   "execution_count": null,
   "id": "731ab846-2854-463b-8c89-e05bb75619ae",
   "metadata": {},
   "outputs": [],
   "source": [
    "@btime gauss_sum_mutable();"
   ]
  },
  {
   "cell_type": "markdown",
   "id": "2d378a9d-bf3b-4163-933e-5e143720d30a",
   "metadata": {},
   "source": [
    "(In some cases the compiler is smart enough to elide the unnecessary allocations, but not in this case.)"
   ]
  },
  {
   "cell_type": "markdown",
   "id": "f920afce-f835-40dd-b7d1-5f0155ff0285",
   "metadata": {},
   "source": [
    "**General note:**\n",
    "* Immutable objects are more likely to be **stack allocated** (or even held in CPU registers only).\n",
    "\n",
    "* Mutable objects are more likely to be allocated on the heap.\n",
    "\n",
    "(However, these are not strict rules! Immutable objects can land on the heap and mutable ojects on the stack.)"
   ]
  },
  {
   "cell_type": "markdown",
   "id": "06a153d7-372d-449f-9619-f9a05f780ab1",
   "metadata": {
    "jp-MarkdownHeadingCollapsed": true,
    "tags": []
   },
   "source": [
    "#### Fixed-size arrays"
   ]
  },
  {
   "cell_type": "markdown",
   "id": "160d801e-dc7a-410a-9e76-3e85d9e98f76",
   "metadata": {},
   "source": [
    "Provided by [StaticArrays.jl](https://github.com/JuliaArrays/StaticArrays.jl)."
   ]
  },
  {
   "cell_type": "code",
   "execution_count": null,
   "id": "46aaa219-9fd6-4f80-a471-11e24ae4d928",
   "metadata": {
    "tags": []
   },
   "outputs": [],
   "source": [
    "using StaticArrays"
   ]
  },
  {
   "cell_type": "code",
   "execution_count": null,
   "id": "7a12c1ae-19e4-46e4-bef2-d7cc0c3833c6",
   "metadata": {},
   "outputs": [],
   "source": [
    "sv = @SVector [1,2,3]"
   ]
  },
  {
   "cell_type": "markdown",
   "id": "989c1b7b-dc95-442f-ade2-5468f83e2c9d",
   "metadata": {},
   "source": [
    "**Properties:**\n",
    "* Size is fixed (encoded in the type)\n",
    "* immutable (there is `MVector` if you want mutability)"
   ]
  },
  {
   "cell_type": "code",
   "execution_count": null,
   "id": "2c4b3076-fbdb-47e8-a704-4b2a25940ff5",
   "metadata": {
    "tags": []
   },
   "outputs": [],
   "source": [
    "function f_static!(x)\n",
    "    @assert length(x) == 3\n",
    "    s = SVector{3}(x) # note: 3 is hard-coded (not length(x))\n",
    "    for i in 1:100_000\n",
    "        s = s + 2*s\n",
    "    end\n",
    "    x .= s\n",
    "end"
   ]
  },
  {
   "cell_type": "code",
   "execution_count": null,
   "id": "fee1136b-d870-4a48-aac6-1e9f97bedc60",
   "metadata": {
    "tags": []
   },
   "outputs": [],
   "source": [
    "@btime f_static!(x) setup = (x = rand(3));"
   ]
  },
  {
   "cell_type": "markdown",
   "id": "399adf83-a43e-4120-a196-f1de6ff74f2e",
   "metadata": {},
   "source": [
    "No allocations, and faster than the variants we've considered above."
   ]
  },
  {
   "cell_type": "markdown",
   "id": "05969b42-d256-46b9-887e-c0c418226b65",
   "metadata": {},
   "source": [
    "## Memory access optimizations"
   ]
  },
  {
   "cell_type": "markdown",
   "id": "a4be1b42-cd35-4d11-9950-887705a58c82",
   "metadata": {},
   "source": [
    "### Memory hierarchy\n",
    "\n",
    "\n",
    "<img src=\"./imgs/memory_hierarchy.svg\" width=550px>\n",
    "<br>\n",
    "\n",
    "**Caches** operate on chunks of memory called **cache lines**.\n",
    "\n",
    "For example, `x[i]` leads to not only a transfer of `x[i]` into cache but an entire cache line (chunk of elements `x[i:j]`)."
   ]
  },
  {
   "cell_type": "code",
   "execution_count": null,
   "id": "a3bbfcdc-a9cf-4446-b4be-b19eee0e1a2b",
   "metadata": {},
   "outputs": [],
   "source": [
    "# Figure out the size of caches and the cache line size of the system\n",
    "using CpuId\n",
    "cpuinfo()"
   ]
  },
  {
   "cell_type": "markdown",
   "id": "a7d8ace9-1994-44f7-b789-cf14da6f3d3b",
   "metadata": {},
   "source": [
    "### Two kinds of locality\n",
    "\n",
    "The existence and workings of caches gives rise to two kinds of locality that we need to consider when writing performance-relevant code:\n",
    "\n",
    "* **temporal locality**: if a memory address is accessed, there should soon be another access to that address.\n",
    "* **spatial locality**: if a memory address is accessed, there should soon be an access to a **nearby** address."
   ]
  },
  {
   "cell_type": "markdown",
   "id": "07e72d4a-286b-4cdf-84f0-d5b86e4d8261",
   "metadata": {},
   "source": [
    "**Illustrative example:**\n",
    "```julia\n",
    "function mysum(a)\n",
    "    s = [zero(eltype(a))]\n",
    "    for i in eachindex(a)\n",
    "        s[1] = s[1] + a[i]\n",
    "    end\n",
    "    return s[1]\n",
    "end\n",
    "```\n",
    "\n",
    "* `s[1]` is repeatedly used → temporal locality\n",
    "* `a[i]` is accessed one element after another (rather than, say, randomly) → spatial locality"
   ]
  },
  {
   "cell_type": "markdown",
   "id": "9a06b69e-8b14-4a04-a398-91b6a4c1c6ff",
   "metadata": {},
   "source": [
    "**Illustrative example (bad):**"
   ]
  },
  {
   "cell_type": "code",
   "execution_count": null,
   "id": "46c83279-2048-4b45-bd19-449f7ad78aff",
   "metadata": {},
   "outputs": [],
   "source": [
    "M = rand(1024,1024);\n",
    "\n",
    "function frow(M)\n",
    "    for row in 1:size(M, 1)\n",
    "        for col in 1:size(M, 2)\n",
    "            M[row, col] = 42\n",
    "        end\n",
    "    end\n",
    "    nothing\n",
    "end"
   ]
  },
  {
   "cell_type": "markdown",
   "id": "68cbd4af-1d88-4df0-a7d0-a130c7872a37",
   "metadata": {},
   "source": [
    "Why is this bad?\n",
    "\n",
    "Higher-dimensional Julia arrays are **column-major order** (like Fortran, unlinke C/C++).\n",
    "\n",
    "<br>\n",
    "<img src=\"./imgs/memory_order.svg\" width=920px>\n",
    "<br>"
   ]
  },
  {
   "cell_type": "markdown",
   "id": "900dc967-cde6-4b55-9172-fa71880c813f",
   "metadata": {},
   "source": [
    "Hence, in the code above, **we're not respecting spatial locality**. Let's fix this and benchmark the impact."
   ]
  },
  {
   "cell_type": "code",
   "execution_count": null,
   "id": "d88f9299-8985-4d03-a1c7-eddcc201ca25",
   "metadata": {},
   "outputs": [],
   "source": [
    "function fcol(M)\n",
    "    # order of loops respects spatial locality (column-major order)\n",
    "    for col in 1:size(M, 2)\n",
    "        for row in 1:size(M, 1)\n",
    "            M[row, col] = 42\n",
    "        end\n",
    "    end\n",
    "    nothing\n",
    "end"
   ]
  },
  {
   "cell_type": "code",
   "execution_count": null,
   "id": "7ca695d4-4cc1-4fe5-9b3b-85ad961b24e4",
   "metadata": {},
   "outputs": [],
   "source": [
    "@btime frow($M)"
   ]
  },
  {
   "cell_type": "code",
   "execution_count": null,
   "id": "da42937f-165b-43a2-a080-b23177a379e2",
   "metadata": {},
   "outputs": [],
   "source": [
    "@btime fcol($M)"
   ]
  },
  {
   "cell_type": "markdown",
   "id": "c2a5f0ca-31fc-48c5-8cea-96a7235eefe5",
   "metadata": {},
   "source": [
    "You can study spatial and temporal locality more deeply in the exercises (e.g. the **matmul exercise**)."
   ]
  },
  {
   "cell_type": "markdown",
   "id": "bb97cc01-4920-40c4-9f02-1aaa7bad4744",
   "metadata": {},
   "source": [
    "### `@inbounds`\n",
    "\n",
    "Disables bounds checks. (Julia may segfault if you use it wrongly!)"
   ]
  },
  {
   "cell_type": "code",
   "execution_count": null,
   "id": "88f834f2-743b-43ea-8345-82afe99dfd33",
   "metadata": {},
   "outputs": [],
   "source": [
    "function comp()\n",
    "    x = [1,2,3]\n",
    "    for i in 1:100_000\n",
    "        for k in 1:3\n",
    "            x[k] = x[k] + 2 * x[k]\n",
    "        end\n",
    "    end\n",
    "    return x\n",
    "end\n",
    "\n",
    "@btime comp();"
   ]
  },
  {
   "cell_type": "code",
   "execution_count": null,
   "id": "ba90bc61-517c-4d13-9b14-1b6916cd178e",
   "metadata": {},
   "outputs": [],
   "source": [
    "function comp_inbounds()\n",
    "    x = [1,2,3]\n",
    "    for i in 1:100_000\n",
    "        for k in 1:3\n",
    "            @inbounds x[k] = x[k] + 2 * x[k]\n",
    "        end\n",
    "    end\n",
    "    return x\n",
    "end\n",
    "\n",
    "@btime comp_inbounds();"
   ]
  },
  {
   "cell_type": "markdown",
   "id": "b38a994f-57d8-40c9-8ad8-541725756f31",
   "metadata": {
    "jp-MarkdownHeadingCollapsed": true,
    "tags": []
   },
   "source": [
    "## Bonus: Turning allocations into errors (if time permits)"
   ]
  },
  {
   "cell_type": "code",
   "execution_count": null,
   "id": "78574026-b78e-4365-9a63-a07d74852e08",
   "metadata": {},
   "outputs": [],
   "source": [
    "using AllocCheck"
   ]
  },
  {
   "cell_type": "code",
   "execution_count": null,
   "id": "9f9877e6-8792-4877-8b84-a1b405f08638",
   "metadata": {},
   "outputs": [],
   "source": [
    "@check_allocs function f!(x)\n",
    "    y = copy(x)\n",
    "    # some computation\n",
    "    for i in 1:100_000\n",
    "        y = y + 2*y\n",
    "    end\n",
    "    copy!(x, y)\n",
    "end"
   ]
  },
  {
   "cell_type": "code",
   "execution_count": null,
   "id": "3c6edab2-2990-46bb-b0d2-7d31be33d4f4",
   "metadata": {},
   "outputs": [],
   "source": [
    "f!(rand(3))"
   ]
  },
  {
   "cell_type": "code",
   "execution_count": null,
   "id": "5f22e7de-aadf-43ed-8692-d574060fe57b",
   "metadata": {},
   "outputs": [],
   "source": [
    "try\n",
    "    f!(rand(3))\n",
    "catch err\n",
    "    err.errors[1]\n",
    "end"
   ]
  },
  {
   "cell_type": "markdown",
   "id": "931ab33a-f91a-4a29-9bc9-27f777c88540",
   "metadata": {},
   "source": [
    "# Core messages of this Notebook\n",
    "\n",
    "* **Avoid unnecessary, repeated memory allocations.** Preallocate and/or re-use existing memory as much as possible.\n",
    "* Use **broadcasting (more dots)** to avoid temporary allocations in vectorized code (or write out loops).\n",
    "* Use **views** instead of copies to avoid unnecessary allocations.\n",
    "* Try to make your types **immutable**, if possible.\n",
    "* Be aware of spatial and temporal locality and especially **column major order** when looping over arrays."
   ]
  }
 ],
 "metadata": {
  "kernelspec": {
   "display_name": "Julia 1.10.5",
   "language": "julia",
   "name": "julia-1.10"
  },
  "language_info": {
   "file_extension": ".jl",
   "mimetype": "application/julia",
   "name": "julia",
   "version": "1.10.5"
  }
 },
 "nbformat": 4,
 "nbformat_minor": 5
}
