{
 "cells": [
  {
   "cell_type": "markdown",
   "metadata": {},
   "source": [
    "# Parallel Computing"
   ]
  },
  {
   "cell_type": "markdown",
   "metadata": {},
   "source": [
    "## Why go parallel?\n",
    "\n",
    "<img src=\"imgs/50-years-processor-trend.png\" width=700px>\n",
    "\n",
    "**Source:** [Karl Rupp, \"Microprocessor trend data repository\".](https://github.com/karlrupp/microprocessor-trend-data)"
   ]
  },
  {
   "cell_type": "markdown",
   "metadata": {},
   "source": [
    "## Parallel computing in Julia"
   ]
  },
  {
   "cell_type": "markdown",
   "metadata": {},
   "source": [
    "There are many types of parallelism:\n",
    "\n",
    "* **Instruction level parallelism** (e.g. SIMD)\n",
    "* **Multi-threading** (shared memory)\n",
    "* **Multi-processing** (shared system memory)\n",
    "* **Distributed processing** (typically no shared memory)\n",
    "* **GPU acceleration**"
   ]
  },
  {
   "cell_type": "markdown",
   "metadata": {},
   "source": [
    "Julia provides support for all types of parallelism mentioned above\n",
    "\n",
    "|                                                         |                                                                                                                                                                                       |\n",
    "|---------------------------------------------------------|---------------------------------------------------------------------------------------------------------------------------------------------------------------------------------------|\n",
    "| **Instruction level parallelism** (e.g. SIMD)           | → [`@simd`](https://docs.julialang.org/en/v1/base/base/#Base.SimdLoop.@simd), [SIMD.jl](https://github.com/eschnett/SIMD.jl), ...                                                     |\n",
    "| **Multi-threading** (shared memory)                     | → [Base.Threads](https://docs.julialang.org/en/v1/base/multi-threading/), [OhMyThreads.jl](https://github.com/JuliaFolds2/OhMyThreads.jl), ... |\n",
    "| **Multi-processing**             | → [Distributed.jl](https://docs.julialang.org/en/v1/stdlib/Distributed/), [MPI.jl](https://github.com/JuliaParallel/MPI.jl), ...                                                      |\n",
    "| **Distributed processing** (typically no shared memory) | → [Distributed.jl](https://docs.julialang.org/en/v1/stdlib/Distributed/), [MPI.jl](https://github.com/JuliaParallel/MPI.jl), ...                                                      |\n",
    "| **GPU acceleration**                                     | → [CUDA.jl](https://github.com/JuliaGPU/CUDA.jl), [AMDGPU.jl](https://github.com/JuliaGPU/AMDGPU.jl), [KernelAbstractions.jl](https://github.com/JuliaGPU/KernelAbstractions.jl), ... |"
   ]
  },
  {
   "cell_type": "markdown",
   "metadata": {},
   "source": [
    "## Moderation of expectations"
   ]
  },
  {
   "cell_type": "markdown",
   "metadata": {},
   "source": [
    "### Amdahl's law (strong scaling)"
   ]
  },
  {
   "cell_type": "markdown",
   "metadata": {},
   "source": [
    "Naive expectation: I have 4 cores, give me my 4x speedup!"
   ]
  },
  {
   "cell_type": "markdown",
   "metadata": {},
   "source": [
    "> If $p$ is the fraction of a code that can be parallelized, then the maximal theoretical speedup by parallelization on $n$ cores is given by $$ S_a(n) = \\frac{1}{(1 - p) + p / n} $$\n",
    "\n",
    "Let's plot the parallel speedup $S_a(n)$:"
   ]
  },
  {
   "cell_type": "code",
   "execution_count": null,
   "metadata": {},
   "outputs": [],
   "source": [
    "using Plots\n",
    "S_a(p,n) = 1/(1-p + p/n)\n",
    "\n",
    "pl = plot()\n",
    "for p in (0.5, 0.7, 0.9, 0.95, 0.99)\n",
    "    plot!(pl, n -> S_a(p,n), 1:128, lab=\"$(Int(p*100))%\", lw=2,\n",
    "        legend=:topleft, xlab=\"number of cores\", ylab=\"parallel speedup\", frame=:box)\n",
    "end\n",
    "pl"
   ]
  },
  {
   "cell_type": "markdown",
   "metadata": {},
   "source": [
    "### Gustafson's law (weak scaling)"
   ]
  },
  {
   "cell_type": "markdown",
   "metadata": {},
   "source": [
    "**Amdahl's law:** fix the total problem size (strong scaling)\n",
    "\n",
    "**Gustafson's law:** fix the problem size per parallel worker, i.e. total problem size increases (weak scaling)"
   ]
  },
  {
   "cell_type": "markdown",
   "metadata": {},
   "source": [
    "<!-- > If $p$ is the fraction of a code that can be parallelized, then the maximal theoretical scaled speedup by parallelization on $n$ cores is given by $$ S_g(n) = 1 + (n-1)p $$ -->\n",
    "\n",
    "Focus on **parallel efficiency** rather than speedup.\n",
    "\n",
    "$$ E_g(n) = \\frac{t(1)}{t(n)}$$\n",
    "\n",
    "$t(1)$: time it takes to solve a problem of \"size $1$\" on a single processor\n",
    "\n",
    "$t(n)$: time it takes to solve a problem of \"size $n$\" on $n$ parallel processors"
   ]
  },
  {
   "cell_type": "code",
   "execution_count": null,
   "metadata": {},
   "outputs": [],
   "source": [
    "using Plots\n",
    "S_g(p,n) = 1+(n-1)p\n",
    "\n",
    "plot(n -> S_g(1,n)/n * 100, 1:128, lab=\"ideal\", lw=2,\n",
    "xlab=\"number of cores\", ylab=\"parallel efficiency (%)\", frame=:box, ylims=(0,105))"
   ]
  },
  {
   "cell_type": "markdown",
   "metadata": {},
   "source": [
    "## How many CPU-cores are there?"
   ]
  },
  {
   "cell_type": "markdown",
   "metadata": {},
   "source": [
    "**Terminology:** CPU-threads = \"virtual cores\" = \"hardware threads\" within physical CPU-cores."
   ]
  },
  {
   "cell_type": "code",
   "execution_count": null,
   "metadata": {},
   "outputs": [],
   "source": [
    "using SysInfo\n",
    "sysinfo()"
   ]
  },
  {
   "cell_type": "markdown",
   "metadata": {},
   "source": [
    "Note that there may be more than one CPU thread per physical CPU core (e.g. hyperthreading)."
   ]
  },
  {
   "cell_type": "markdown",
   "metadata": {},
   "source": [
    "### DelftBlue: CPU node\n",
    "\n",
    "```julia-repl\n",
    "Hostname: \tcmp001\n",
    "CPU(s): \t2 x Intel(R) Xeon(R) Gold 6248R CPU @ 3.00GHz\n",
    "CPU target: \tcascadelake\n",
    "Cores: \t\t48 (48 CPU-threads)\n",
    "NUMA domains: \t4 (12 cores each)\n",
    "\n",
    "∘ CPU 1:\n",
    "\t→ 24 cores (24 CPU-threads)\n",
    "\t→ 2 NUMA domains\n",
    "∘ CPU 2:\n",
    "\t→ 24 cores (24 CPU-threads)\n",
    "\t→ 2 NUMA domains\n",
    "```"
   ]
  },
  {
   "cell_type": "markdown",
   "metadata": {},
   "source": [
    "### DelftBlue: GPU node\n",
    "\n",
    "```julia-repl\n",
    "Hostname: \tgpu009\n",
    "CPU(s): \t2 x AMD EPYC 7402 24-Core Processor\n",
    "CPU target: \tznver2\n",
    "Cores: \t\t48 (48 CPU-threads)\n",
    "NUMA domains: \t8 (6 cores each)\n",
    "\n",
    "∘ CPU 1:\n",
    "\t→ 24 cores (24 CPU-threads)\n",
    "\t→ 4 NUMA domains\n",
    "∘ CPU 2:\n",
    "\t→ 24 cores (24 CPU-threads)\n",
    "\t→ 4 NUMA domains\n",
    "\n",
    "Detected GPUs: \t4\n",
    "```"
   ]
  }
 ],
 "metadata": {
  "@webio": {
   "lastCommId": null,
   "lastKernelId": null
  },
  "kernelspec": {
   "display_name": "Julia 1.10.5",
   "language": "julia",
   "name": "julia-1.10"
  },
  "language_info": {
   "file_extension": ".jl",
   "mimetype": "application/julia",
   "name": "julia",
   "version": "1.10.5"
  }
 },
 "nbformat": 4,
 "nbformat_minor": 4
}
