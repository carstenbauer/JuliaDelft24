{
 "cells": [
  {
   "cell_type": "markdown",
   "metadata": {},
   "source": [
    "# Exercise: Babylonian Square Root"
   ]
  },
  {
   "cell_type": "markdown",
   "metadata": {},
   "source": [
    "## Algorithm + Numerical precision\n",
    "\n",
    "The Babylonians introduced a simple but clever iterative algorithm for computing the square root of a number:"
   ]
  },
  {
   "cell_type": "markdown",
   "metadata": {},
   "source": [
    "> Repeat $t \\leftarrow (t + x/t)/2$ until $t$ converges to $\\sqrt{x}$."
   ]
  },
  {
   "cell_type": "markdown",
   "metadata": {},
   "source": [
    "Here a Julia implementation that performs the iterative procedure `N` times."
   ]
  },
  {
   "cell_type": "code",
   "execution_count": 3,
   "metadata": {
    "tags": []
   },
   "outputs": [
    {
     "data": {
      "text/plain": [
       "sqrt_babylonian (generic function with 2 methods)"
      ]
     },
     "execution_count": 3,
     "metadata": {},
     "output_type": "execute_result"
    }
   ],
   "source": [
    "function sqrt_babylonian(x, N = 10)\n",
    "    t = (1+x)/2\n",
    "    for i = 2:N\n",
    "        t = (t + x/t)/2\n",
    "    end\n",
    "    t\n",
    "end"
   ]
  },
  {
   "cell_type": "markdown",
   "metadata": {},
   "source": [
    "**Tasks**\n",
    "\n",
    "1. Confirm that the iterative algorithm indeed converges to the square root by comparing the output of `sqrt_babylonian` to `sqrt(big\"2.0\")` for `N` increasing from `1` to `10`. (Here, `big\"2.0\"` creates a `BigFloat` which has arbitrarily high precision.)\n",
    "    - How big is the difference to the \"exact\" result?\n",
    "    - Does increasing `N` any further help?\n",
    "2. Do the same as in task 1 but vary the data type of the input number. Specifically, use `Float16(2.0)`, `Float32(2.0)`, `Float64(2.0)`, and `big\"2.0\"` (`BigFloat`)."
   ]
  },
  {
   "cell_type": "code",
   "execution_count": 4,
   "metadata": {
    "tags": []
   },
   "outputs": [
    {
     "name": "stdout",
     "output_type": "stream",
     "text": [
      "0.08578643762690495119831127579030192143032812462305192682332026200926752153789802\n",
      "0.00245310429357146983524132576942986494610571251367692682332026200926752153789802\n",
      "2.123901414615797774852241245868268707030873051926823320262009267521537898020485e-06\n",
      "1.594821025504709383794876399734252552739426823320262009267521537898020485288439e-12\n",
      "-1.253716717905021777128546450199081980731766797379907324784621019795147115605803e-16\n",
      "-1.253716717905021777128546450199081980731766797379907324784621019795147115605803e-16\n",
      "-1.253716717905021777128546450199081980731766797379907324784621019795147115605803e-16\n",
      "-1.253716717905021777128546450199081980731766797379907324784621019795147115605803e-16\n",
      "-1.253716717905021777128546450199081980731766797379907324784621019795147115605803e-16\n",
      "-1.253716717905021777128546450199081980731766797379907324784621019795147115605803e-16\n"
     ]
    }
   ],
   "source": [
    "# 1.\n",
    "for i in 1:10\n",
    "    println(sqrt_babylonian(2.0, i) - sqrt(big\"2.0\"))\n",
    "end"
   ]
  },
  {
   "cell_type": "code",
   "execution_count": 5,
   "metadata": {
    "tags": []
   },
   "outputs": [
    {
     "name": "stdout",
     "output_type": "stream",
     "text": [
      "dtype = Float16\n",
      "0.08578643762690495119831127579030192143032812462305192682332026200926752153789802\n",
      "0.00180206262690495119831127579030192143032812462305192682332026200926752153789802\n",
      "-0.0001510623730950488016887242096980785696718753769480731766797379907324784621019795\n",
      "-0.0001510623730950488016887242096980785696718753769480731766797379907324784621019795\n",
      "-0.0001510623730950488016887242096980785696718753769480731766797379907324784621019795\n",
      "-0.0001510623730950488016887242096980785696718753769480731766797379907324784621019795\n",
      "-0.0001510623730950488016887242096980785696718753769480731766797379907324784621019795\n",
      "-0.0001510623730950488016887242096980785696718753769480731766797379907324784621019795\n",
      "-0.0001510623730950488016887242096980785696718753769480731766797379907324784621019795\n",
      "-0.0001510623730950488016887242096980785696718753769480731766797379907324784621019795\n",
      "\n",
      "dtype = Float32\n",
      "0.08578643762690495119831127579030192143032812462305192682332026200926752153789802\n",
      "0.00245318376643131838581127579030192143032812462305192682332026200926752153789802\n",
      "2.121563977705104561275790301921430328124623051926823320262009267521537898020485e-06\n",
      "-2.420323420895793872420969807856967187537694807317667973799073247846210197951471e-08\n",
      "-2.420323420895793872420969807856967187537694807317667973799073247846210197951471e-08\n",
      "-2.420323420895793872420969807856967187537694807317667973799073247846210197951471e-08\n",
      "-2.420323420895793872420969807856967187537694807317667973799073247846210197951471e-08\n",
      "-2.420323420895793872420969807856967187537694807317667973799073247846210197951471e-08\n",
      "-2.420323420895793872420969807856967187537694807317667973799073247846210197951471e-08\n",
      "-2.420323420895793872420969807856967187537694807317667973799073247846210197951471e-08\n",
      "\n",
      "dtype = Float64\n",
      "0.08578643762690495119831127579030192143032812462305192682332026200926752153789802\n",
      "0.00245310429357146983524132576942986494610571251367692682332026200926752153789802\n",
      "2.123901414615797774852241245868268707030873051926823320262009267521537898020485e-06\n",
      "1.594821025504709383794876399734252552739426823320262009267521537898020485288439e-12\n",
      "-1.253716717905021777128546450199081980731766797379907324784621019795147115605803e-16\n",
      "-1.253716717905021777128546450199081980731766797379907324784621019795147115605803e-16\n",
      "-1.253716717905021777128546450199081980731766797379907324784621019795147115605803e-16\n",
      "-1.253716717905021777128546450199081980731766797379907324784621019795147115605803e-16\n",
      "-1.253716717905021777128546450199081980731766797379907324784621019795147115605803e-16\n",
      "-1.253716717905021777128546450199081980731766797379907324784621019795147115605803e-16\n",
      "\n",
      "dtype = BigFloat\n",
      "0.08578643762690495119831127579030192143032812462305192682332026200926752153789802\n",
      "0.002453104293571617864977942456968588096994791289718593489986928675934188204576202\n",
      "2.123901414755119879903241282313587190869721091142509594771813189090165348662204e-06\n",
      "1.594861824606854680436831546887746738795971408225281209321893373282554461870123e-12\n",
      "8.992928321650453100503992493553216097606324633457668137499347571936627462501505e-25\n",
      "2.85928384333395122532777168230583522433177744630519065794809400186552252353298e-49\n",
      "1.727233711018888925077270372560079914223200072887256277004740694033718360632485e-77\n",
      "1.727233711018888925077270372560079914223200072887256277004740694033718360632485e-77\n",
      "1.727233711018888925077270372560079914223200072887256277004740694033718360632485e-77\n",
      "1.727233711018888925077270372560079914223200072887256277004740694033718360632485e-77\n",
      "\n"
     ]
    }
   ],
   "source": [
    "# 2.\n",
    "for dtype in (Float16, Float32, Float64, BigFloat)\n",
    "    println(\"dtype = $dtype\")\n",
    "    for i in 1:10\n",
    "        println(sqrt_babylonian(dtype(2.0), i) - sqrt(big\"2.0\"))\n",
    "    end\n",
    "    println()\n",
    "end"
   ]
  },
  {
   "cell_type": "markdown",
   "metadata": {},
   "source": [
    "The fact that our generic implementation of the babylonian square root algorithm can be executed with different numerical precisions is only a specific case of a more general concept: The combination of generic code and special data types can lead to \"emergent\" features. Below, we'll consider three simple but hopefully somewhat exciting examples that will make our `sqrt_babylonian`\n",
    "* compute not only the square root itself but also its derivative,\n",
    "* produce an analytical expression that approximates the square root, and\n",
    "* propagate uncertainty in the input (according to linear error propagation theory) to the output.\n",
    "\n",
    "And all of this **without modifying our `sqrt_babylonian` implementation above at all**."
   ]
  },
  {
   "cell_type": "markdown",
   "metadata": {},
   "source": [
    "## Automatic differentiation\n",
    "A powerful number type invented by Clifford in 1873 is the [*dual number*](https://en.wikipedia.org/wiki/Dual_number). One application of these numbers is what is known as forward-mode automatic differentiation (AD) these days. Here a simple Julia implementation:"
   ]
  },
  {
   "cell_type": "code",
   "execution_count": 6,
   "metadata": {
    "tags": []
   },
   "outputs": [],
   "source": [
    "# D for \"dual number\", invented by Clifford in 1873.\n",
    "struct D <: Number\n",
    "    x::Float64 # value\n",
    "    ϵ::Float64 # derivative\n",
    "end\n",
    "\n",
    "import Base: +, -, *, /, convert, promote_rule\n",
    "\n",
    "+(a::D, b::D) = D(a.x + b.x, a.ϵ + b.ϵ) # sum rule\n",
    "-(a::D, b::D) = D(a.x - b.x, a.ϵ - b.ϵ) # sum rule\n",
    "*(a::D, b::D) = D(a.x * b.x, a.x * b.ϵ + a.ϵ * b.x) # product rule\n",
    "/(a::D, b::D) = D(a.x / b.x, (b.x * a.ϵ - a.x * b.ϵ)/b.x^2) # quotient rule\n",
    "\n",
    "# Conversion and promotion of regular numbers to dual numbers\n",
    "convert(::Type{D}, x::Real) = D(x, zero(x))\n",
    "promote_rule(::Type{D}, ::Type{<:Number}) = D"
   ]
  },
  {
   "cell_type": "markdown",
   "metadata": {},
   "source": [
    "The derivative of a generic Julia function (that fundamentally relies on `+`, `-`, `*`, and `/`) can know be obtained with the following function"
   ]
  },
  {
   "cell_type": "code",
   "execution_count": 7,
   "metadata": {
    "tags": []
   },
   "outputs": [
    {
     "data": {
      "text/plain": [
       "derivative (generic function with 1 method)"
      ]
     },
     "execution_count": 7,
     "metadata": {},
     "output_type": "execute_result"
    }
   ],
   "source": [
    "# utility function for our small forward-mode AD\n",
    "derivative(f::Function, x::Number) = f(D(x, one(x))).ϵ"
   ]
  },
  {
   "cell_type": "markdown",
   "metadata": {},
   "source": [
    "**Tasks**\n",
    "\n",
    "3. What is the analytical derivative of $\\sqrt{x}$ (try to remember your calculus class 😉)?\n",
    "\n",
    "4. Check that `derivative(sqrt_babylonian, some_number)` indeed automagically gives the correct value of the derivative.\n",
    "    - Feel free to try other functions/algorithms as well! Maybe something recursive like `pow(x, n) = n <= 0 ? 1 : x*pow(x, n-1)`?"
   ]
  },
  {
   "cell_type": "markdown",
   "metadata": {},
   "source": [
    "**Answer 3.:**\n",
    "\n",
    "Derivative of $\\sqrt{x}$ is $\\dfrac{1}{2\\sqrt{x}}$"
   ]
  },
  {
   "cell_type": "code",
   "execution_count": 8,
   "metadata": {
    "tags": []
   },
   "outputs": [
    {
     "data": {
      "text/plain": [
       "0.35355339059327373"
      ]
     },
     "execution_count": 8,
     "metadata": {},
     "output_type": "execute_result"
    }
   ],
   "source": [
    "# 4.\n",
    "derivative(sqrt_babylonian, 2.0)"
   ]
  },
  {
   "cell_type": "code",
   "execution_count": 9,
   "metadata": {
    "tags": []
   },
   "outputs": [
    {
     "data": {
      "text/plain": [
       "true"
      ]
     },
     "execution_count": 9,
     "metadata": {},
     "output_type": "execute_result"
    }
   ],
   "source": [
    "1/(2*sqrt(2)) ≈ derivative(sqrt_babylonian, 2.0)"
   ]
  },
  {
   "cell_type": "code",
   "execution_count": 10,
   "metadata": {
    "tags": []
   },
   "outputs": [
    {
     "data": {
      "text/plain": [
       "true"
      ]
     },
     "execution_count": 10,
     "metadata": {},
     "output_type": "execute_result"
    }
   ],
   "source": [
    "derivative(x->2*x^2, 1.23) == 4*1.23"
   ]
  },
  {
   "cell_type": "code",
   "execution_count": 11,
   "metadata": {
    "tags": []
   },
   "outputs": [
    {
     "data": {
      "text/plain": [
       "pow (generic function with 1 method)"
      ]
     },
     "execution_count": 11,
     "metadata": {},
     "output_type": "execute_result"
    }
   ],
   "source": [
    "pow(x, n) = n <= 0 ? 1 : x*pow(x, n-1)"
   ]
  },
  {
   "cell_type": "code",
   "execution_count": 12,
   "metadata": {
    "tags": []
   },
   "outputs": [
    {
     "data": {
      "text/plain": [
       "12.0"
      ]
     },
     "execution_count": 12,
     "metadata": {},
     "output_type": "execute_result"
    }
   ],
   "source": [
    "derivative(x -> pow(x,3), 2)"
   ]
  },
  {
   "cell_type": "markdown",
   "metadata": {},
   "source": [
    "## Symbolics\n",
    "\n",
    "Now, imagine your supervisor coming to your office and telling you that he thinks that the Babylonian approximation for `N=3` is equivalent to the analytical form\n",
    "$$ \\text{sqrt\\_babylonian}(x, 3) \\approx \\begin{equation}\n",
    "\\frac{7 x + 17 x^{2} + 7 x^{3}}{8 \\left( 1 + x \\right) \\left( \\frac{1}{4} + \\frac{3}{2} x + \\frac{1}{4} x^{2} \\right)}\n",
    "\\end{equation} $$\n",
    "\n",
    "Of course, he asks you to quickly confirm this.\n",
    "\n",
    "**Tasks**\n",
    "\n",
    "5. Is your supervisor correct?\n",
    "    - Hint: Use the `Symbolics` package, in particular `@variables x` and `simplify`.\n",
    "    - Note: Make sure you have `N=3` since for larger `N` problems might start to occur."
   ]
  },
  {
   "cell_type": "code",
   "execution_count": 13,
   "metadata": {
    "tags": []
   },
   "outputs": [
    {
     "data": {
      "text/latex": [
       "$$ \\begin{equation}\n",
       "\\frac{1}{2} \\left( 1 + x \\right)\n",
       "\\end{equation}\n",
       " $$"
      ],
      "text/plain": [
       "(1//2)*(1 + x)"
      ]
     },
     "metadata": {},
     "output_type": "display_data"
    },
    {
     "data": {
      "text/latex": [
       "$$ \\begin{equation}\n",
       "\\frac{1}{2} \\left( \\frac{1}{2} \\left( 1 + x \\right) + \\frac{x}{\\frac{1}{2} \\left( 1 + x \\right)} \\right)\n",
       "\\end{equation}\n",
       " $$"
      ],
      "text/plain": [
       "(1//2)*((1//2)*(1 + x) + x / ((1//2)*(1 + x)))"
      ]
     },
     "metadata": {},
     "output_type": "display_data"
    },
    {
     "data": {
      "text/latex": [
       "$$ \\begin{equation}\n",
       "\\frac{1}{2} \\left( \\frac{1}{2} \\left( \\frac{1}{2} \\left( 1 + x \\right) + \\frac{x}{\\frac{1}{2} \\left( 1 + x \\right)} \\right) + \\frac{x}{\\frac{1}{2} \\left( \\frac{1}{2} \\left( 1 + x \\right) + \\frac{x}{\\frac{1}{2} \\left( 1 + x \\right)} \\right)} \\right)\n",
       "\\end{equation}\n",
       " $$"
      ],
      "text/plain": [
       "(1//2)*((1//2)*((1//2)*(1 + x) + x / ((1//2)*(1 + x))) + x / ((1//2)*((1//2)*(1 + x) + x / ((1//2)*(1 + x)))))"
      ]
     },
     "metadata": {},
     "output_type": "display_data"
    }
   ],
   "source": [
    "# 5.\n",
    "using Symbolics\n",
    "@variables x\n",
    "\n",
    "for i in 1:3\n",
    "    display(sqrt_babylonian(x, i))\n",
    "end"
   ]
  },
  {
   "cell_type": "code",
   "execution_count": 14,
   "metadata": {
    "tags": []
   },
   "outputs": [
    {
     "data": {
      "text/latex": [
       "$$ \\begin{equation}\n",
       "\\frac{7 x + 17 x^{2} + 7 x^{3}}{8 \\left( 1 + x \\right) \\left( \\frac{1}{4} + \\frac{3}{2} x + \\frac{1}{4} x^{2} \\right)}\n",
       "\\end{equation}\n",
       " $$"
      ],
      "text/plain": [
       "(7x + 17(x^2) + 7(x^3)) / (8(1 + x)*((1//4) + (3//2)*x + (1//4)*(x^2)))"
      ]
     },
     "execution_count": 14,
     "metadata": {},
     "output_type": "execute_result"
    }
   ],
   "source": [
    "simplify(sqrt_babylonian(x, 3))"
   ]
  },
  {
   "cell_type": "markdown",
   "metadata": {},
   "source": [
    "## Uncertainty propagation"
   ]
  },
  {
   "cell_type": "markdown",
   "metadata": {},
   "source": [
    "In the experimental sciences, numerical values (e.g., from measurements) are often subject to uncertainties due to systematic precision errors of the measurement devices. The Julia package [Measurements.jl](https://github.com/JuliaPhysics/Measurements.jl) provides a number type and corresponding arithmetical operations that address this situation. Specifically, the package implements linear error propagation theory, which states that given a function $f(x)$ and an input value $x_0$ with uncertainty $\\Delta x_0$, the uncertainty of $f(x_0)$ is given by\n",
    "$$\n",
    "\\Delta (f(x_0)) = \\dfrac{df}{dx}(x_0) \\cdot \\Delta x_0,\n",
    "$$\n",
    "that is, the derivative of $f$ evaluated at $x_0$ multiplied by the input uncertainty $\\Delta x_0$."
   ]
  },
  {
   "cell_type": "code",
   "execution_count": 15,
   "metadata": {
    "tags": []
   },
   "outputs": [
    {
     "data": {
      "text/latex": [
       "$4.6 \\pm 0.22$"
      ],
      "text/plain": [
       "4.6 ± 0.22"
      ]
     },
     "execution_count": 15,
     "metadata": {},
     "output_type": "execute_result"
    }
   ],
   "source": [
    "# Example:\n",
    "using Measurements\n",
    "\n",
    "x = 1.2 ± 0.1 # you can get the ± by typing \\pm and then pressing the \"TAB\" key.\n",
    "y = 3.4 ± 0.2\n",
    "\n",
    "x + y"
   ]
  },
  {
   "cell_type": "markdown",
   "metadata": {},
   "source": [
    "**Tasks**\n",
    "\n",
    "6. Try to run our sqrt algorithm with a `Measurement` as input, i.e. `sqrt_babylonian(2.0 ± 0.1)`.\n",
    "    - Does it work?\n",
    "    - What uncertainy do you get for the result?\n",
    "7. It never hurts to check for correctness: Does the obtained uncertainty match the formula above for $f=\\textrm{sqrt}$?"
   ]
  },
  {
   "cell_type": "code",
   "execution_count": 16,
   "metadata": {
    "tags": []
   },
   "outputs": [
    {
     "data": {
      "text/latex": [
       "$1.414 \\pm 0.035$"
      ],
      "text/plain": [
       "1.414 ± 0.035"
      ]
     },
     "execution_count": 16,
     "metadata": {},
     "output_type": "execute_result"
    }
   ],
   "source": [
    "# 6..\n",
    "sqrt_babylonian(2.0 ± 0.1)"
   ]
  },
  {
   "cell_type": "code",
   "execution_count": 17,
   "metadata": {
    "tags": []
   },
   "outputs": [
    {
     "data": {
      "text/plain": [
       "true"
      ]
     },
     "execution_count": 17,
     "metadata": {},
     "output_type": "execute_result"
    }
   ],
   "source": [
    "# 7.\n",
    "1/(2*sqrt(2.0)) * 0.1 ≈ Measurements.uncertainty(sqrt_babylonian(2.0 ± 0.1))"
   ]
  }
 ],
 "metadata": {
  "@webio": {
   "lastCommId": null,
   "lastKernelId": null
  },
  "kernelspec": {
   "display_name": "Julia 1.10.5",
   "language": "julia",
   "name": "julia-1.10"
  },
  "language_info": {
   "file_extension": ".jl",
   "mimetype": "application/julia",
   "name": "julia",
   "version": "1.10.5"
  }
 },
 "nbformat": 4,
 "nbformat_minor": 4
}
