{
 "cells": [
  {
   "cell_type": "markdown",
   "metadata": {},
   "source": [
    "# Exercise: Babylonian Square Root"
   ]
  },
  {
   "cell_type": "markdown",
   "metadata": {},
   "source": [
    "## Algorithm + Numerical precision\n",
    "\n",
    "The Babylonians introduced a simple but clever iterative algorithm for computing the square root of a number:"
   ]
  },
  {
   "cell_type": "markdown",
   "metadata": {},
   "source": [
    "> Repeat $t \\leftarrow (t + x/t)/2$ until $t$ converges to $\\sqrt{x}$."
   ]
  },
  {
   "cell_type": "markdown",
   "metadata": {},
   "source": [
    "Here a Julia implementation that performs the iterative procedure `N` times."
   ]
  },
  {
   "cell_type": "code",
   "execution_count": null,
   "metadata": {
    "tags": []
   },
   "outputs": [],
   "source": [
    "function sqrt_babylonian(x, N = 10)\n",
    "    t = (1+x)/2\n",
    "    for i = 2:N\n",
    "        t = (t + x/t)/2\n",
    "    end\n",
    "    t\n",
    "end"
   ]
  },
  {
   "cell_type": "markdown",
   "metadata": {},
   "source": [
    "**Tasks**\n",
    "\n",
    "1. Confirm that the iterative algorithm indeed converges to the square root by comparing the output of `sqrt_babylonian` to `sqrt(big\"2.0\")` for `N` increasing from `1` to `10`. (Here, `big\"2.0\"` creates a `BigFloat` which has arbitrarily high precision.)\n",
    "    - How big is the difference to the \"exact\" result?\n",
    "    - Does increasing `N` any further help?\n",
    "2. Do the same as in task 1 but vary the data type of the input number. Specifically, use `Float16(2.0)`, `Float32(2.0)`, `Float64(2.0)`, and `big\"2.0\"` (`BigFloat`)."
   ]
  },
  {
   "cell_type": "code",
   "execution_count": null,
   "metadata": {
    "tags": []
   },
   "outputs": [],
   "source": [
    "# 1."
   ]
  },
  {
   "cell_type": "code",
   "execution_count": null,
   "metadata": {
    "tags": []
   },
   "outputs": [],
   "source": [
    "# 2."
   ]
  },
  {
   "cell_type": "markdown",
   "metadata": {},
   "source": [
    "The fact that our generic implementation of the babylonian square root algorithm can be executed with different numerical precisions is only a specific case of a more general concept: The combination of generic code and special data types can lead to \"emergent\" features. Below, we'll consider three simple but hopefully somewhat exciting examples that will make our `sqrt_babylonian`\n",
    "* compute not only the square root itself but also its derivative,\n",
    "* produce an analytical expression that approximates the square root, and\n",
    "* propagate uncertainty in the input (according to linear error propagation theory) to the output.\n",
    "\n",
    "And all of this **without modifying our `sqrt_babylonian` implementation above at all**."
   ]
  },
  {
   "cell_type": "markdown",
   "metadata": {},
   "source": [
    "## Automatic differentiation\n",
    "A powerful number type invented by Clifford in 1873 is the [*dual number*](https://en.wikipedia.org/wiki/Dual_number). One application of these numbers is what is known as forward-mode automatic differentiation (AD) these days. Here a simple Julia implementation:"
   ]
  },
  {
   "cell_type": "code",
   "execution_count": null,
   "metadata": {
    "tags": []
   },
   "outputs": [],
   "source": [
    "# D for \"dual number\", invented by Clifford in 1873.\n",
    "struct D <: Number\n",
    "    x::Float64 # value\n",
    "    ϵ::Float64 # derivative\n",
    "end\n",
    "\n",
    "import Base: +, -, *, /, convert, promote_rule\n",
    "\n",
    "+(a::D, b::D) = D(a.x + b.x, a.ϵ + b.ϵ) # sum rule\n",
    "-(a::D, b::D) = D(a.x - b.x, a.ϵ - b.ϵ) # sum rule\n",
    "*(a::D, b::D) = D(a.x * b.x, a.x * b.ϵ + a.ϵ * b.x) # product rule\n",
    "/(a::D, b::D) = D(a.x / b.x, (b.x * a.ϵ - a.x * b.ϵ)/b.x^2) # quotient rule\n",
    "\n",
    "# Conversion and promotion of regular numbers to dual numbers\n",
    "convert(::Type{D}, x::Real) = D(x, zero(x))\n",
    "promote_rule(::Type{D}, ::Type{<:Number}) = D"
   ]
  },
  {
   "cell_type": "markdown",
   "metadata": {},
   "source": [
    "The derivative of a generic Julia function (that fundamentally relies on `+`, `-`, `*`, and `/`) can know be obtained with the following function"
   ]
  },
  {
   "cell_type": "code",
   "execution_count": null,
   "metadata": {
    "tags": []
   },
   "outputs": [],
   "source": [
    "# utility function for our small forward-mode AD\n",
    "derivative(f::Function, x::Number) = f(D(x, one(x))).ϵ"
   ]
  },
  {
   "cell_type": "markdown",
   "metadata": {},
   "source": [
    "**Tasks**\n",
    "\n",
    "3. What is the analytical derivative of $\\sqrt{x}$ (try to remember your calculus class 😉)?\n",
    "\n",
    "4. Check that `derivative(sqrt_babylonian, some_number)` indeed automagically gives the correct value of the derivative.\n",
    "    - Feel free to try other functions/algorithms as well! Maybe something recursive like `pow(x, n) = n <= 0 ? 1 : x*pow(x, n-1)`?"
   ]
  },
  {
   "cell_type": "code",
   "execution_count": null,
   "metadata": {
    "tags": []
   },
   "outputs": [],
   "source": [
    "# 4."
   ]
  },
  {
   "cell_type": "markdown",
   "metadata": {},
   "source": [
    "## Symbolics\n",
    "\n",
    "Now, imagine your supervisor coming to your office and telling you that he thinks that the Babylonian approximation for `N=3` is equivalent to the analytical form\n",
    "$$ \\text{sqrt\\_babylonian}(x, 3) \\approx \\begin{equation}\n",
    "\\frac{7 x + 17 x^{2} + 7 x^{3}}{8 \\left( 1 + x \\right) \\left( \\frac{1}{4} + \\frac{3}{2} x + \\frac{1}{4} x^{2} \\right)}\n",
    "\\end{equation} $$\n",
    "\n",
    "Of course, he asks you to quickly confirm this.\n",
    "\n",
    "**Tasks**\n",
    "\n",
    "5. Is your supervisor correct?\n",
    "    - Hint: Use the `Symbolics` package, in particular `@variables x` and `simplify`.\n",
    "    - Note: Make sure you have `N=3` since for larger `N` problems might start to occur."
   ]
  },
  {
   "cell_type": "code",
   "execution_count": null,
   "metadata": {
    "tags": []
   },
   "outputs": [],
   "source": [
    "# 5."
   ]
  },
  {
   "cell_type": "markdown",
   "metadata": {},
   "source": [
    "## Uncertainty propagation"
   ]
  },
  {
   "cell_type": "markdown",
   "metadata": {},
   "source": [
    "In the experimental sciences, numerical values (e.g., from measurements) are often subject to uncertainties due to systematic precision errors of the measurement devices. The Julia package [Measurements.jl](https://github.com/JuliaPhysics/Measurements.jl) provides a number type and corresponding arithmetical operations that address this situation. Specifically, the package implements linear error propagation theory, which states that given a function $f(x)$ and an input value $x_0$ with uncertainty $\\Delta x_0$, the uncertainty of $f(x_0)$ is given by\n",
    "$$\n",
    "\\Delta (f(x_0)) = \\dfrac{df}{dx}(x_0) \\cdot \\Delta x_0,\n",
    "$$\n",
    "that is, the derivative of $f$ evaluated at $x_0$ multiplied by the input uncertainty $\\Delta x_0$."
   ]
  },
  {
   "cell_type": "code",
   "execution_count": null,
   "metadata": {
    "tags": []
   },
   "outputs": [],
   "source": [
    "# Example:\n",
    "using Measurements\n",
    "\n",
    "x = 1.2 ± 0.1 # you can get the ± by typing \\pm and then pressing the \"TAB\" key.\n",
    "y = 3.4 ± 0.2\n",
    "\n",
    "x + y"
   ]
  },
  {
   "cell_type": "markdown",
   "metadata": {},
   "source": [
    "**Tasks**\n",
    "\n",
    "6. Try to run our sqrt algorithm with a `Measurement` as input, i.e. `sqrt_babylonian(2.0 ± 0.1)`.\n",
    "    - Does it work?\n",
    "    - What uncertainy do you get for the result?\n",
    "7. It never hurts to check for correctness: Does the obtained uncertainty match the formula above for $f=\\textrm{sqrt}$?"
   ]
  },
  {
   "cell_type": "code",
   "execution_count": null,
   "metadata": {
    "tags": []
   },
   "outputs": [],
   "source": [
    "# 6.."
   ]
  },
  {
   "cell_type": "code",
   "execution_count": null,
   "metadata": {
    "tags": []
   },
   "outputs": [],
   "source": [
    "# 7."
   ]
  }
 ],
 "metadata": {
  "@webio": {
   "lastCommId": null,
   "lastKernelId": null
  },
  "kernelspec": {
   "display_name": "Julia 1.10.5",
   "language": "julia",
   "name": "julia-1.10"
  },
  "language_info": {
   "file_extension": ".jl",
   "mimetype": "application/julia",
   "name": "julia",
   "version": "1.10.5"
  }
 },
 "nbformat": 4,
 "nbformat_minor": 4
}
