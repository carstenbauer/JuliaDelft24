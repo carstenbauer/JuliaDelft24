{
 "cells": [
  {
   "cell_type": "markdown",
   "metadata": {},
   "source": [
    "# Exercise: Parallel Monte Carlo (Threads)"
   ]
  },
  {
   "cell_type": "markdown",
   "metadata": {},
   "source": [
    "**Note: You should use multiple Julia threads for this exercise!**"
   ]
  },
  {
   "cell_type": "code",
   "execution_count": null,
   "metadata": {},
   "outputs": [],
   "source": [
    "using Base.Threads\n",
    "@assert Threads.nthreads() > 1\n",
    "Threads.nthreads()"
   ]
  },
  {
   "cell_type": "markdown",
   "metadata": {},
   "source": [
    "Calculate the value of $\\pi$ through parallel direct Monte Carlo.\n",
    "\n",
    "A unit circle is inscribed inside a unit square with side length 2 (from -1 to 1). The area of the circle is $\\pi$, the area of the square is 4, and the ratio is $\\pi/4$. This means that, if you throw $N$ darts randomly at the square, approximately $M=N\\pi/4$ of those darts will land inside the unit circle.\n",
    "\n",
    "Throw darts randomly at a unit square and count how many of them ($M$) landed inside of a unit circle. Approximate $\\pi \\approx 4M/N$. Visualization:"
   ]
  },
  {
   "cell_type": "code",
   "execution_count": null,
   "metadata": {
    "tags": []
   },
   "outputs": [],
   "source": [
    "using Plots\n",
    "using Distributions\n",
    "\n",
    "# plot circle\n",
    "circlepts = Plots.partialcircle(0, 2π, 100)\n",
    "plot(circlepts, aspect_ratio=:equal, xlims=(-1, 1), ylims=(-1, 1), legend=false, lw=3, grid=false, frame=:box)\n",
    "\n",
    "# plot darts\n",
    "N = 400\n",
    "d = Uniform(-1, 1)\n",
    "scatter!(rand(d, N), rand(d, N), ms=2.5, color=:black)"
   ]
  },
  {
   "cell_type": "markdown",
   "metadata": {},
   "source": [
    "### Basic Julia Implementation"
   ]
  },
  {
   "cell_type": "code",
   "execution_count": null,
   "metadata": {
    "tags": []
   },
   "outputs": [],
   "source": [
    "function compute_pi(N)\n",
    "    M = 0 # number of darts that landed in the circle\n",
    "    for i in 1:N\n",
    "        if sqrt(rand()^2 + rand()^2) < 1.0\n",
    "            M += 1\n",
    "        end\n",
    "    end\n",
    "    return 4 * M / N\n",
    "end"
   ]
  },
  {
   "cell_type": "code",
   "execution_count": null,
   "metadata": {
    "tags": []
   },
   "outputs": [],
   "source": [
    "compute_pi(10_000_000)"
   ]
  },
  {
   "cell_type": "markdown",
   "metadata": {},
   "source": [
    "### Tasks\n",
    "\n",
    "1. Based on `compute_pi`, write a parallel version `compute_pi_parallel(N::Int)` that divides the work into `Threads.nthreads()` parallel tasks. The final estimate for π should be the average of the estimate of each task. \n",
    "    1. **Hint:** Be aware of false sharing, that is, make sure that every tasks operates locally and only shares the local result at the end.\n",
    "    2. **Hint:** You may call the serial `compute_pi` in your code.\n",
    "    3. **Hint:** If you want, implement two versions, one based on `@tasks` and one using `@spawn`. (Bonus: write one using `tmapreduce` from OhMyThreads).\n",
    "\n",
    "2. Benchmark and compare the serial and parallel variants.\n",
    "    1. **Hint:** A reasonable value for $N$ could be `N = 10_000_000`."
   ]
  },
  {
   "cell_type": "code",
   "execution_count": null,
   "metadata": {
    "tags": []
   },
   "outputs": [],
   "source": [
    "using BenchmarkTools\n",
    "using OhMyThreads\n",
    "using Base.Threads"
   ]
  },
  {
   "cell_type": "code",
   "execution_count": null,
   "metadata": {
    "tags": []
   },
   "outputs": [],
   "source": [
    "# TODO...\n",
    "\n",
    "# @btime compute_pi_parallel(10_000_000) samples=5 evals=2"
   ]
  },
  {
   "cell_type": "markdown",
   "metadata": {},
   "source": [
    "3. Write a function `compute_pi_multiple(Ns::Vector{Int})` which takes in a collection of values for $N$ (`Ns`) and **in serial** computes $\\pi$ for all these values. The function should be **entirely serial** and based on `compute_pi`. Benchmark and compare to the previous variants."
   ]
  },
  {
   "cell_type": "code",
   "execution_count": null,
   "metadata": {
    "tags": []
   },
   "outputs": [],
   "source": [
    "some_Ns = [10, 100, 1000, 10_000, 100_000, 1_000_000, 2_000_000, 3_000_000, 4_000_000]\n",
    "\n",
    "# TODO...\n",
    "\n",
    "# @btime compute_pi_multiple(some_Ns) samples=5 evals=2"
   ]
  },
  {
   "cell_type": "markdown",
   "metadata": {},
   "source": [
    "4. Write a function `compute_pi_multiple_parallel(Ns::Vector{Int})` which takes in a collection of values for $N$ (`Ns`) and **in parallel** computes $\\pi$ for all these values. The function should still be based on the serial `compute_pi`. Benchmark and compare to the previous variants.\n",
    "    1. **Hint:** You shouldn't use `@tasks` with default configuration (`ntasks=nthreads()`) here, because the workload is non-uniform. Either use `@set ntasks=length(Ns)` or write a version using `@spawn`. (Bonus: write a variant using `tmap` from OhMyThreads.)"
   ]
  },
  {
   "cell_type": "code",
   "execution_count": null,
   "metadata": {
    "tags": []
   },
   "outputs": [],
   "source": [
    "some_Ns = [10, 100, 1000, 10_000, 100_000, 1_000_000, 2_000_000, 3_000_000, 4_000_000]\n",
    "\n",
    "# TODO...\n",
    "\n",
    "# @btime compute_pi_multiple_parallel($some_Ns) samples=5 evals=2"
   ]
  },
  {
   "cell_type": "markdown",
   "metadata": {},
   "source": [
    "5. Calculate $\\pi$ estimates for the following $N$ values: `Ns = ceil.(Int, exp10.(range(1, stop=8, length=50)))`. Plot $\\pi$ vs $N$ on a semi-log plot."
   ]
  },
  {
   "cell_type": "code",
   "execution_count": null,
   "metadata": {
    "tags": []
   },
   "outputs": [],
   "source": [
    "# N values (nothing todo here)\n",
    "Ns = ceil.(Int, exp10.(range(1, stop=8, length=50)));"
   ]
  },
  {
   "cell_type": "code",
   "execution_count": null,
   "metadata": {
    "tags": []
   },
   "outputs": [],
   "source": [
    "# Important: the resulting pi estimates should be stored in a variable named: pis\n",
    "# TODO..."
   ]
  },
  {
   "cell_type": "code",
   "execution_count": null,
   "metadata": {
    "tags": []
   },
   "outputs": [],
   "source": [
    "# Plotting (nothing todo here)\n",
    "plot(Ns, pis, color=:black, marker=:circle, lw=1, label=\"MC\", xscale=:log10, frame=:box)\n",
    "plot!(x -> π, label=\"π\", xscale=:log10, linestyle=:dash, color=:red, lw=2)\n",
    "ylabel!(\"π estimate\")\n",
    "xlabel!(\"number of dart throws N\")"
   ]
  },
  {
   "cell_type": "markdown",
   "metadata": {},
   "source": [
    "6. **Bonus:** Try to write a function `compute_pi_multiple_nested_parallel(Ns::Vector{Int})` which computes $\\pi$ for all given $N$ values using nested multithreading: Both the outer computation (\"for each N in Ns\") as well as the inner computation (\"compute pi for a given N\") should be parallelized. Benchmark and compare to the previous variants."
   ]
  },
  {
   "cell_type": "code",
   "execution_count": null,
   "metadata": {
    "tags": []
   },
   "outputs": [],
   "source": [
    "some_Ns = [10, 100, 1000, 10_000, 100_000, 1_000_000, 2_000_000, 3_000_000, 4_000_000]\n",
    "\n",
    "# TODO...\n",
    "\n",
    "# @btime compute_pi_multiple_nested_parallel($some_Ns) samples=5 evals=2\n",
    "\n",
    "# from above, for comparison\n",
    "# @btime compute_pi_multiple_parallel($some_Ns) samples=5 evals=2"
   ]
  }
 ],
 "metadata": {
  "@webio": {
   "lastCommId": null,
   "lastKernelId": null
  },
  "kernelspec": {
   "display_name": "Julia (4 threads) 1.10.5",
   "language": "julia",
   "name": "julia-_4-threads_-1.10"
  },
  "language_info": {
   "file_extension": ".jl",
   "mimetype": "application/julia",
   "name": "julia",
   "version": "1.10.5"
  }
 },
 "nbformat": 4,
 "nbformat_minor": 4
}
