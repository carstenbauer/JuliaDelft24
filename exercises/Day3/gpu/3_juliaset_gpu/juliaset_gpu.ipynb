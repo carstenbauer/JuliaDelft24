{
 "cells": [
  {
   "cell_type": "markdown",
   "id": "e1aa1d75-fccb-4570-824e-a9b318333cff",
   "metadata": {},
   "source": [
    "# Exercise: Julia Set on NVIDIA GPU\n",
    "\n",
    "<img src=\"./imgs/juliaset.svg\" width=700>\n",
    "\n",
    "In this exercise, we will visit the problem of computing an image of the [Julia set](https://en.wikipedia.org/wiki/Julia_set). \n",
    "We will compare a CPU variant to a parallel GPU implementation, using a custom CUDA kernel."
   ]
  },
  {
   "cell_type": "code",
   "execution_count": null,
   "id": "8f99b223-5900-445d-b318-c81335c4ae4a",
   "metadata": {},
   "outputs": [],
   "source": [
    "using CUDA\n",
    "using Plots\n",
    "using BenchmarkTools\n",
    "\n",
    "@assert CUDA.functional()\n",
    "\n",
    "const MAX_THREADS_PER_BLOCK = CUDA.attribute(device(), CUDA.DEVICE_ATTRIBUTE_MAX_THREADS_PER_BLOCK);"
   ]
  },
  {
   "cell_type": "markdown",
   "id": "51178d8b-d6eb-413e-a006-2036b895f9ec",
   "metadata": {},
   "source": [
    "The value of a single pixel (`i,j` coordinates) of the Julia set can be computed with the following function. A pixel corresponds to a point `z` in the complex number plane and the value of the pixel is the number of performed iterations for the corresponding complex number `z`."
   ]
  },
  {
   "cell_type": "code",
   "execution_count": null,
   "id": "9450aea6-b884-41f6-a6f8-b99e50cebb2c",
   "metadata": {},
   "outputs": [],
   "source": [
    "\"\"\"\n",
    "Computes a pixel (`i`, `j`) in the Julia set image\n",
    "(of size `n`x`n`). It returns the number of iterations.\n",
    "\"\"\"\n",
    "function _compute_pixel(i, j, n; max_iter=255, c=-0.79f0 + 0.15f0 * im)\n",
    "    x = Float32(-2.0 + (j - 1) * 4.0 / (n - 1))\n",
    "    y = Float32(-2.0 + (i - 1) * 4.0 / (n - 1))\n",
    "\n",
    "    z = x + y * im\n",
    "    iter = max_iter\n",
    "    for k in 1:max_iter\n",
    "        if abs2(z) > 4.0\n",
    "            iter = k - 1\n",
    "            break\n",
    "        end\n",
    "        z = z^2 + c\n",
    "    end\n",
    "    return iter\n",
    "end"
   ]
  },
  {
   "cell_type": "markdown",
   "id": "f7e84db4-8428-4fcc-b811-1d388856c7c9",
   "metadata": {},
   "source": [
    "**We will run this function on the CPU and GPU below!**"
   ]
  },
  {
   "cell_type": "markdown",
   "id": "ddee4200-e626-4eac-9613-066c6ade6b80",
   "metadata": {},
   "source": [
    "## CPU"
   ]
  },
  {
   "cell_type": "markdown",
   "id": "cb5337f9-d936-43c4-8df8-df8a6f219443",
   "metadata": {},
   "source": [
    "**Task 1:** Utilizing the function `_compute_pixel!(i,j,n)` from above, implement the function `compute_juliaset_cpu(N)` below and verify (by plotting) that you actually get the desired Julia set image\n",
    "  * Hint: Use the `heatmap` function to generate the plot."
   ]
  },
  {
   "cell_type": "code",
   "execution_count": null,
   "id": "71091fa2-f9c3-41d5-8155-51b8d5f0c437",
   "metadata": {},
   "outputs": [],
   "source": [
    "function compute_juliaset_cpu(N)\n",
    "    img = zeros(Int32, N, N)\n",
    "    #\n",
    "    # TODO: loop over the image matrix (use two loops) and compute each pixel by\n",
    "    #       calling the `_compute_pixel` function above.\n",
    "    #\n",
    "    return img\n",
    "end"
   ]
  },
  {
   "cell_type": "markdown",
   "id": "5fc326ea-6bf5-4356-85f8-49be84e74685",
   "metadata": {},
   "source": [
    "Check that everything works (should produce the Julia set image):"
   ]
  },
  {
   "cell_type": "code",
   "execution_count": null,
   "id": "b428509b-0759-426e-ac1e-0db9cf66aad7",
   "metadata": {
    "tags": []
   },
   "outputs": [],
   "source": [
    "N = 2048\n",
    "#\n",
    "# TODO: compute the julia set image and plot it\n",
    "#"
   ]
  },
  {
   "cell_type": "markdown",
   "id": "a2afc0aa-2708-4fff-bf3b-66bb42a6e181",
   "metadata": {},
   "source": [
    "## GPU (CUDA kernel)"
   ]
  },
  {
   "cell_type": "markdown",
   "id": "42f94f04-0dbc-41f7-9953-5cc01adbf264",
   "metadata": {},
   "source": [
    "**Task 2:** Utilizing the function `_compute_pixel!(i,j,n)` from above, implement the CUDA kernel `_compute_pixel_gpu!(img)` and the function `compute_juliaset_gpu(N)` that calls this kernel below. Verify (by plotting and comparing the result to `compute_juliaset_cpu(N)`) that you actually get the desired Julia set image."
   ]
  },
  {
   "cell_type": "code",
   "execution_count": null,
   "id": "d11ffd7a-fc4a-4685-b1d4-9cc6272c1dbf",
   "metadata": {},
   "outputs": [],
   "source": [
    "function _compute_pixel_gpu!(img)\n",
    "    i = (blockIdx().x - 1) * blockDim().x + threadIdx().x\n",
    "    j = (blockIdx().y - 1) * blockDim().y + threadIdx().y\n",
    "    #\n",
    "    # TODO: Complete this CUDA kernel that should use the function `_compute_pixel` to\n",
    "    #       compute a single pixel of the image. The result should be written into the\n",
    "    #       correct position of `img`.\n",
    "    #\n",
    "    return nothing\n",
    "end\n",
    "\n",
    "function compute_juliaset_gpu(N)\n",
    "    img_gpu = CUDA.zeros(Int32, N, N)\n",
    "    threads = (isqrt(MAX_THREADS_PER_BLOCK), isqrt(MAX_THREADS_PER_BLOCK))\n",
    "    blocks = cld.((N, N), threads)\n",
    "    #\n",
    "    # TODO: 1. Call the GPU kernel that you've written above.\n",
    "    #          (the variables `threads` and `blocks` indicate the launch configuration)\n",
    "    #       2. Afterwards, copy the image (`img_gpu`) to the host memory (`img_cpu`).\n",
    "    #\n",
    "    img_cpu = Array(img_gpu)\n",
    "    return img_cpu\n",
    "end"
   ]
  },
  {
   "cell_type": "markdown",
   "id": "a967476d-d96d-4ced-ad95-1a5682b4ad74",
   "metadata": {},
   "source": [
    "Check that everything works (should produce the Julia set image):"
   ]
  },
  {
   "cell_type": "code",
   "execution_count": null,
   "id": "e9048838-cc26-47eb-928c-bf3550eb8d9b",
   "metadata": {
    "tags": []
   },
   "outputs": [],
   "source": [
    "N = 2048\n",
    "#\n",
    "# TODO: compute the julia set image on the GPU and plot it\n",
    "#"
   ]
  },
  {
   "cell_type": "code",
   "execution_count": null,
   "id": "bcc83bc2-7d22-4874-b2c1-a47b98ea9b22",
   "metadata": {
    "tags": []
   },
   "outputs": [],
   "source": [
    "println(\"CPU and GPU images match: \", img_cpu ≈ img_gpu)"
   ]
  },
  {
   "cell_type": "markdown",
   "id": "7f964a94-96c7-422c-8ca3-69cd5d52c836",
   "metadata": {},
   "source": [
    "## Benchmark"
   ]
  },
  {
   "cell_type": "markdown",
   "id": "47de0640-175c-45f0-86e4-c73d5d473702",
   "metadata": {},
   "source": [
    "**Task 3:** Run the following benchmark that compares the variants above and also tries to estimate the time it takes to transfer the data from the GPU to the host."
   ]
  },
  {
   "cell_type": "code",
   "execution_count": null,
   "id": "b51f3224-ce95-4c51-86f9-fe04a5529ecc",
   "metadata": {
    "tags": []
   },
   "outputs": [],
   "source": [
    "N = 2048\n",
    "\n",
    "t_cpu = @belapsed compute_juliaset_cpu($N) samples = 10 evals = 3\n",
    "t_gpu = @belapsed compute_juliaset_gpu($N) samples = 10 evals = 3\n",
    "t_transfer = @belapsed Array(img_gpu) setup = (img_gpu = CUDA.zeros(Int32, $N, $N)) samples = 10 evals = 3\n",
    "\n",
    "println(\"CPU (sequential):\\t\", round(t_cpu * 1e3; digits=2), \"ms\")\n",
    "println(\"GPU (incl. data transfer):\\t\", round(t_gpu * 1e3; digits=2), \"ms\")\n",
    "println(\"GPU (w/o data transfer):\\t\", round((t_gpu - t_transfer) * 1e6; digits=2), \"μs\")"
   ]
  },
  {
   "cell_type": "markdown",
   "id": "344e866a-c3f0-493a-ab35-9ef815ba3123",
   "metadata": {
    "tags": []
   },
   "source": [
    "**Questions:** Imagine we could parallelize the CPU code (`compute_juliaset_cpu`) perfectly on a full compute node with 128 CPU-cores (e.g. with multithreading).\n",
    "\n",
    "1) What would be the runtime of this CPU-parallel variant?\n",
    "2) Would the GPU computation (including data transfer) still be much faster?"
   ]
  }
 ],
 "metadata": {
  "kernelspec": {
   "display_name": "Julia 1.10.4",
   "language": "julia",
   "name": "julia-1.10"
  },
  "language_info": {
   "file_extension": ".jl",
   "mimetype": "application/julia",
   "name": "julia",
   "version": "1.10.4"
  }
 },
 "nbformat": 4,
 "nbformat_minor": 5
}
