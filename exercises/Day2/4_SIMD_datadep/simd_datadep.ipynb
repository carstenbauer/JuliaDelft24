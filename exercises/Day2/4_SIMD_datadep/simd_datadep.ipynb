{
 "cells": [
  {
   "cell_type": "markdown",
   "metadata": {},
   "source": [
    "# Exercise: SIMD Data Dependency\n",
    "\n",
    "Consider the following loop involving four vectors `a`,`b`,`c`, and `d`:"
   ]
  },
  {
   "cell_type": "code",
   "execution_count": null,
   "metadata": {},
   "outputs": [],
   "source": [
    "const LOOP_ITERATIONS = 8192\n",
    "const N = LOOP_ITERATIONS + 2\n",
    "\n",
    "function loop_naive!(a, b, c, d)\n",
    "    @inbounds for i in 1:LOOP_ITERATIONS\n",
    "        a[i] = a[i] + b[i]\n",
    "        b[i+2] = c[i] + d[i]\n",
    "    end\n",
    "end\n",
    "\n",
    "a = rand(Float32, N)\n",
    "b = rand(Float32, N)\n",
    "c = rand(Float32, N)\n",
    "d = rand(Float32, N)\n",
    "\n",
    "loop_naive!(a,b,c,d)"
   ]
  },
  {
   "cell_type": "markdown",
   "metadata": {},
   "source": [
    "This loop is hard to auto-vectorize because it has a **data-dependency**: we're reading and writing elements of the vector `b`.\n",
    "\n",
    "**Task 1**: Check the native code produced for `loop_naive!(a,b,c,d)` and convince yourself that the Julia compiler hasn't vectorized this code. (There shouldn't be any usage of `ymm` or `zmm` registers etc.)"
   ]
  },
  {
   "cell_type": "code",
   "execution_count": null,
   "metadata": {},
   "outputs": [],
   "source": [
    "# TODO"
   ]
  },
  {
   "cell_type": "markdown",
   "metadata": {},
   "source": [
    "\n",
    "**Task 2**: Implement the same loop in `loop_naive_simd!` and try to force SIMD-vectorization with the corresponding performance macro. (You shall keep the `@inbounds` as well.)"
   ]
  },
  {
   "cell_type": "code",
   "execution_count": null,
   "metadata": {},
   "outputs": [],
   "source": [
    "function loop_naive_simd!(a, b, c, d)\n",
    "    #\n",
    "    # TODO\n",
    "    #\n",
    "end"
   ]
  },
  {
   "cell_type": "markdown",
   "metadata": {},
   "source": [
    "**Task 3**: Check the native code of `loop_naive_simd!`. Has the code improved? The learning here is that just putting `@simd` in front of a loop and hoping for the best isn't a particularly good strategy 😉"
   ]
  },
  {
   "cell_type": "code",
   "execution_count": null,
   "metadata": {},
   "outputs": [],
   "source": [
    "# TODO"
   ]
  },
  {
   "cell_type": "markdown",
   "metadata": {},
   "source": [
    "**Task 4**: Benchmark and compare the variants. What do you observe?\n"
   ]
  },
  {
   "cell_type": "code",
   "execution_count": null,
   "metadata": {},
   "outputs": [],
   "source": [
    "# TODO"
   ]
  },
  {
   "cell_type": "markdown",
   "metadata": {},
   "source": [
    "\n",
    "**Task 5**: Take a closer look at the loop. Can you \"resolve\" the data-dependency issue by splitting up the loop into two separate loops? Implement this improved version in the functions below. Use `@simd` for the loops in the second function. (Again, keep `@inbounds` for all loops in both functions.)"
   ]
  },
  {
   "cell_type": "code",
   "execution_count": null,
   "metadata": {},
   "outputs": [],
   "source": [
    "function loop_opt!(a, b, c, d)\n",
    "    #\n",
    "    # TODO\n",
    "    #\n",
    "end\n",
    "\n",
    "function loop_opt_simd!(a, b, c, d)\n",
    "    #\n",
    "    # TODO\n",
    "    #\n",
    "end"
   ]
  },
  {
   "cell_type": "markdown",
   "metadata": {},
   "source": [
    "**Task 6**: Benchmark those new variants as well.\n",
    "  * How do they compare to each other?\n",
    "  * Did the SIMD performance macro help? (Hint: It shouldn't.)\n",
    "  * How does the performance compare to the unoptimized variants above?"
   ]
  },
  {
   "cell_type": "code",
   "execution_count": null,
   "metadata": {},
   "outputs": [],
   "source": [
    "# TODO"
   ]
  },
  {
   "cell_type": "markdown",
   "metadata": {},
   "source": [
    "\n",
    "**Task 7**: Check the native code of e.g. `loop_opt_simd!`. Did it vectorize properly? (Look e.g. for `ymm` and `zmm` registers as well as a block of `vaddps` instructions. Note though, that this is system-dependent.)"
   ]
  },
  {
   "cell_type": "code",
   "execution_count": null,
   "metadata": {},
   "outputs": [],
   "source": [
    "# TODO"
   ]
  }
 ],
 "metadata": {
  "kernelspec": {
   "display_name": "Julia 1.10.5",
   "language": "julia",
   "name": "julia-1.10"
  },
  "language_info": {
   "file_extension": ".jl",
   "mimetype": "application/julia",
   "name": "julia",
   "version": "1.10.5"
  }
 },
 "nbformat": 4,
 "nbformat_minor": 4
}
