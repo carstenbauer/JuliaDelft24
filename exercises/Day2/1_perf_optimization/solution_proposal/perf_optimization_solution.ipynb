{
 "cells": [
  {
   "cell_type": "markdown",
   "metadata": {},
   "source": [
    "# Exercise: Performance Optimization"
   ]
  },
  {
   "cell_type": "markdown",
   "metadata": {},
   "source": [
    "Optimize the following function."
   ]
  },
  {
   "cell_type": "code",
   "execution_count": 1,
   "metadata": {
    "tags": []
   },
   "outputs": [
    {
     "data": {
      "text/plain": [
       "work! (generic function with 1 method)"
      ]
     },
     "execution_count": 1,
     "metadata": {},
     "output_type": "execute_result"
    }
   ],
   "source": [
    "function work!(A)\n",
    "    val = zero(eltype(v))\n",
    "    for i in 1:N\n",
    "        val = mod(v[i],256)\n",
    "        A[i,1:N] = B[i,1:N] * (sin(val) * sin(val) - cos(val) * cos(val))\n",
    "    end\n",
    "    A = A/2\n",
    "    return A\n",
    "end"
   ]
  },
  {
   "cell_type": "markdown",
   "metadata": {},
   "source": [
    "The following data is **fixed** and **not supposed to be modified**!"
   ]
  },
  {
   "cell_type": "code",
   "execution_count": 2,
   "metadata": {
    "tags": []
   },
   "outputs": [],
   "source": [
    "# do not modify this cell!\n",
    "\n",
    "using Random\n",
    "Random.seed!(42)\n",
    "\n",
    "N = 250\n",
    "B = rand(N,N)\n",
    "v = rand(Int, N);\n",
    "\n",
    "const result = work!(zeros(N,N));\n",
    "\n",
    "# do not modify this cell!"
   ]
  },
  {
   "cell_type": "markdown",
   "metadata": {},
   "source": [
    "You can compare against `result` to test your implementation(s):"
   ]
  },
  {
   "cell_type": "code",
   "execution_count": 3,
   "metadata": {
    "tags": []
   },
   "outputs": [
    {
     "data": {
      "text/plain": [
       "\u001b[32m\u001b[1mTest Passed\u001b[22m\u001b[39m"
      ]
     },
     "execution_count": 3,
     "metadata": {},
     "output_type": "execute_result"
    }
   ],
   "source": [
    "using Test\n",
    "\n",
    "@test work!(zeros(N,N)) ≈ result"
   ]
  },
  {
   "cell_type": "markdown",
   "metadata": {},
   "source": [
    "You can benchmark as follows:"
   ]
  },
  {
   "cell_type": "code",
   "execution_count": 4,
   "metadata": {
    "tags": []
   },
   "outputs": [
    {
     "name": "stdout",
     "output_type": "stream",
     "text": [
      "  549.768 μs (3253 allocations: 1.54 MiB)\n"
     ]
    }
   ],
   "source": [
    "using BenchmarkTools\n",
    "\n",
    "@btime work!(A) setup=(A=zeros(N,N)); # or use @benchmark for more information"
   ]
  },
  {
   "cell_type": "markdown",
   "metadata": {},
   "source": [
    "## Your Optimizations"
   ]
  },
  {
   "cell_type": "markdown",
   "metadata": {},
   "source": [
    "Your optimized variants go here!\n",
    "\n",
    "<details>\n",
    "\n",
    "<summary><b>If you want some hints, click here!</b></summary>\n",
    "\n",
    "* Try to look for type instabilities (with `@code_warntype`).\n",
    "* Try to avoid unnecessary allocations (due to slicing and allocating array computations).\n",
    "* Try to optimize the memory access (keyword: column-major order).\n",
    "* Bonus: Simplify the algebra by using a trigonometric identity.\n",
    "\n",
    "</details>"
   ]
  },
  {
   "cell_type": "markdown",
   "metadata": {},
   "source": [
    "### Fixing the type instability (accessing global `N`)"
   ]
  },
  {
   "cell_type": "code",
   "execution_count": 5,
   "metadata": {
    "scrolled": true
   },
   "outputs": [
    {
     "name": "stdout",
     "output_type": "stream",
     "text": [
      "MethodInstance for work!(::Matrix{Float64})\n",
      "  from work!(\u001b[90mA\u001b[39m)\u001b[90m @\u001b[39m \u001b[90mMain\u001b[39m \u001b[90m\u001b[4mIn[1]:1\u001b[24m\u001b[39m\n",
      "Arguments\n",
      "  #self#\u001b[36m::Core.Const(work!)\u001b[39m\n",
      "  A@_2\u001b[36m::Matrix{Float64}\u001b[39m\n",
      "Locals\n",
      "  @_3\u001b[91m\u001b[1m::Any\u001b[22m\u001b[39m\n",
      "  val\u001b[91m\u001b[1m::Any\u001b[22m\u001b[39m\n",
      "  i\u001b[91m\u001b[1m::Any\u001b[22m\u001b[39m\n",
      "  A@_6\u001b[36m::Matrix{Float64}\u001b[39m\n",
      "Body\u001b[36m::Matrix{Float64}\u001b[39m\n",
      "\u001b[90m1 ─\u001b[39m       (A@_6 = A@_2)\n",
      "\u001b[90m│  \u001b[39m %2  = Main.eltype(Main.v)\u001b[91m\u001b[1m::Any\u001b[22m\u001b[39m\n",
      "\u001b[90m│  \u001b[39m       (val = Main.zero(%2))\n",
      "\u001b[90m│  \u001b[39m %4  = (1:Main.N)\u001b[91m\u001b[1m::Any\u001b[22m\u001b[39m\n",
      "\u001b[90m│  \u001b[39m       (@_3 = Base.iterate(%4))\n",
      "\u001b[90m│  \u001b[39m %6  = (@_3 === nothing)\u001b[36m::Bool\u001b[39m\n",
      "\u001b[90m│  \u001b[39m %7  = Base.not_int(%6)\u001b[36m::Bool\u001b[39m\n",
      "\u001b[90m└──\u001b[39m       goto #4 if not %7\n",
      "\u001b[90m2 ┄\u001b[39m %9  = @_3\u001b[91m\u001b[1m::Any\u001b[22m\u001b[39m\n",
      "\u001b[90m│  \u001b[39m       (i = Core.getfield(%9, 1))\n",
      "\u001b[90m│  \u001b[39m %11 = Core.getfield(%9, 2)\u001b[91m\u001b[1m::Any\u001b[22m\u001b[39m\n",
      "\u001b[90m│  \u001b[39m %12 = Base.getindex(Main.v, i)\u001b[91m\u001b[1m::Any\u001b[22m\u001b[39m\n",
      "\u001b[90m│  \u001b[39m       (val = Main.mod(%12, 256))\n",
      "\u001b[90m│  \u001b[39m %14 = Main.B\u001b[91m\u001b[1m::Any\u001b[22m\u001b[39m\n",
      "\u001b[90m│  \u001b[39m %15 = i\u001b[91m\u001b[1m::Any\u001b[22m\u001b[39m\n",
      "\u001b[90m│  \u001b[39m %16 = (1:Main.N)\u001b[91m\u001b[1m::Any\u001b[22m\u001b[39m\n",
      "\u001b[90m│  \u001b[39m %17 = Base.getindex(%14, %15, %16)\u001b[91m\u001b[1m::Any\u001b[22m\u001b[39m\n",
      "\u001b[90m│  \u001b[39m %18 = Main.sin(val)\u001b[91m\u001b[1m::Any\u001b[22m\u001b[39m\n",
      "\u001b[90m│  \u001b[39m %19 = Main.sin(val)\u001b[91m\u001b[1m::Any\u001b[22m\u001b[39m\n",
      "\u001b[90m│  \u001b[39m %20 = (%18 * %19)\u001b[91m\u001b[1m::Any\u001b[22m\u001b[39m\n",
      "\u001b[90m│  \u001b[39m %21 = Main.cos(val)\u001b[91m\u001b[1m::Any\u001b[22m\u001b[39m\n",
      "\u001b[90m│  \u001b[39m %22 = Main.cos(val)\u001b[91m\u001b[1m::Any\u001b[22m\u001b[39m\n",
      "\u001b[90m│  \u001b[39m %23 = (%21 * %22)\u001b[91m\u001b[1m::Any\u001b[22m\u001b[39m\n",
      "\u001b[90m│  \u001b[39m %24 = (%20 - %23)\u001b[91m\u001b[1m::Any\u001b[22m\u001b[39m\n",
      "\u001b[90m│  \u001b[39m %25 = (%17 * %24)\u001b[91m\u001b[1m::Any\u001b[22m\u001b[39m\n",
      "\u001b[90m│  \u001b[39m %26 = A@_6\u001b[36m::Matrix{Float64}\u001b[39m\n",
      "\u001b[90m│  \u001b[39m %27 = i\u001b[91m\u001b[1m::Any\u001b[22m\u001b[39m\n",
      "\u001b[90m│  \u001b[39m %28 = (1:Main.N)\u001b[91m\u001b[1m::Any\u001b[22m\u001b[39m\n",
      "\u001b[90m│  \u001b[39m       Base.setindex!(%26, %25, %27, %28)\n",
      "\u001b[90m│  \u001b[39m       (@_3 = Base.iterate(%4, %11))\n",
      "\u001b[90m│  \u001b[39m %31 = (@_3 === nothing)\u001b[36m::Bool\u001b[39m\n",
      "\u001b[90m│  \u001b[39m %32 = Base.not_int(%31)\u001b[36m::Bool\u001b[39m\n",
      "\u001b[90m└──\u001b[39m       goto #4 if not %32\n",
      "\u001b[90m3 ─\u001b[39m       goto #2\n",
      "\u001b[90m4 ┄\u001b[39m       (A@_6 = A@_6 / 2)\n",
      "\u001b[90m└──\u001b[39m       return A@_6\n",
      "\n"
     ]
    }
   ],
   "source": [
    "@code_warntype work!(zeros(N,N))"
   ]
  },
  {
   "cell_type": "markdown",
   "metadata": {},
   "source": [
    "Get `N` from the size of `A` (or `B`) or add another function argument."
   ]
  },
  {
   "cell_type": "code",
   "execution_count": 6,
   "metadata": {},
   "outputs": [
    {
     "name": "stdout",
     "output_type": "stream",
     "text": [
      "  378.110 μs (502 allocations: 1.48 MiB)\n"
     ]
    },
    {
     "data": {
      "text/plain": [
       "\u001b[32m\u001b[1mTest Passed\u001b[22m\u001b[39m"
      ]
     },
     "execution_count": 6,
     "metadata": {},
     "output_type": "execute_result"
    }
   ],
   "source": [
    "function work1!(A, B, v)\n",
    "    N = size(A,1) # or additional function argument\n",
    "    val = zero(eltype(v))\n",
    "    for i in 1:N\n",
    "        val = -cos(2*mod(v[i],256))\n",
    "        A[i,1:N] = B[i,1:N] * val\n",
    "    end\n",
    "    A = A/2\n",
    "    return A\n",
    "end\n",
    "\n",
    "@btime work1!(A, $B, $v) setup=(A=zeros(N,N))\n",
    "@test work1!(zeros(N,N), B, v) ≈ result"
   ]
  },
  {
   "cell_type": "markdown",
   "metadata": {},
   "source": [
    "### Analytic optimization (style points 😉)"
   ]
  },
  {
   "cell_type": "markdown",
   "metadata": {},
   "source": [
    "Trigonometric identity"
   ]
  },
  {
   "cell_type": "code",
   "execution_count": 7,
   "metadata": {
    "tags": []
   },
   "outputs": [
    {
     "data": {
      "text/plain": [
       "\u001b[32m\u001b[1mTest Passed\u001b[22m\u001b[39m"
      ]
     },
     "execution_count": 7,
     "metadata": {},
     "output_type": "execute_result"
    }
   ],
   "source": [
    "x = rand()\n",
    "@test sin(x) * sin(x) - cos(x) * cos(x) ≈ -cos(2*x)"
   ]
  },
  {
   "cell_type": "code",
   "execution_count": 8,
   "metadata": {
    "tags": []
   },
   "outputs": [
    {
     "name": "stdout",
     "output_type": "stream",
     "text": [
      "  378.445 μs (502 allocations: 1.48 MiB)\n"
     ]
    },
    {
     "data": {
      "text/plain": [
       "\u001b[32m\u001b[1mTest Passed\u001b[22m\u001b[39m"
      ]
     },
     "execution_count": 8,
     "metadata": {},
     "output_type": "execute_result"
    }
   ],
   "source": [
    "function work2!(A, B, v)\n",
    "    N = size(A,1)\n",
    "    val = zero(eltype(v))\n",
    "    for i in 1:N\n",
    "        val = -cos(2*mod(v[i],256))\n",
    "        A[i,1:N] = B[i,1:N] * val\n",
    "    end\n",
    "    A = A/2\n",
    "    return A\n",
    "end\n",
    "\n",
    "@btime work2!(A, $B, $v) setup=(A=zeros(N,N))\n",
    "@test work2!(zeros(N,N), B, v) ≈ result"
   ]
  },
  {
   "cell_type": "markdown",
   "metadata": {},
   "source": [
    "### Avoid allocations due to slicing and allocating array arithmetic"
   ]
  },
  {
   "cell_type": "code",
   "execution_count": 9,
   "metadata": {},
   "outputs": [
    {
     "name": "stdout",
     "output_type": "stream",
     "text": [
      "  99.691 μs (0 allocations: 0 bytes)\n"
     ]
    },
    {
     "data": {
      "text/plain": [
       "\u001b[32m\u001b[1mTest Passed\u001b[22m\u001b[39m"
      ]
     },
     "execution_count": 9,
     "metadata": {},
     "output_type": "execute_result"
    }
   ],
   "source": [
    "function work3_vectorized!(A, B, v)\n",
    "    N = size(A,1)\n",
    "    val = zero(eltype(v))\n",
    "    for i in 1:N\n",
    "        val = -cos(2*mod(v[i],256))*0.5 # moved the rescaling by 0.5 here\n",
    "        @views A[i,1:N] .= B[i,1:N] .* val # using @views and broadcasting here\n",
    "    end\n",
    "    return A\n",
    "end\n",
    "\n",
    "@btime work3_vectorized!(A, $B, $v) setup=(A=zeros(N,N))\n",
    "@test work3_vectorized!(zeros(N,N), B, v) ≈ result"
   ]
  },
  {
   "cell_type": "markdown",
   "metadata": {},
   "source": [
    "Same idea but explicit loop"
   ]
  },
  {
   "cell_type": "code",
   "execution_count": 10,
   "metadata": {},
   "outputs": [
    {
     "name": "stdout",
     "output_type": "stream",
     "text": [
      "  89.115 μs (0 allocations: 0 bytes)\n"
     ]
    },
    {
     "data": {
      "text/plain": [
       "\u001b[32m\u001b[1mTest Passed\u001b[22m\u001b[39m"
      ]
     },
     "execution_count": 10,
     "metadata": {},
     "output_type": "execute_result"
    }
   ],
   "source": [
    "function work3_loop!(A, B, v)\n",
    "    N = size(A,1)\n",
    "    val = zero(eltype(v))\n",
    "    for i in 1:N\n",
    "        val = -cos(2*mod(v[i],256))*0.5\n",
    "        for j in 1:N\n",
    "            @inbounds A[i,j] = B[i,j] * val\n",
    "        end\n",
    "    end\n",
    "    return A\n",
    "end\n",
    "\n",
    "@btime work3_loop!(A, $B, $v) setup=(A=zeros(N,N))\n",
    "@test work3_loop!(zeros(N,N), B, v) ≈ result"
   ]
  },
  {
   "cell_type": "markdown",
   "metadata": {},
   "source": [
    "### Separating `val` computation"
   ]
  },
  {
   "cell_type": "code",
   "execution_count": 11,
   "metadata": {},
   "outputs": [
    {
     "name": "stdout",
     "output_type": "stream",
     "text": [
      "  93.329 μs (1 allocation: 2.06 KiB)\n"
     ]
    },
    {
     "data": {
      "text/plain": [
       "\u001b[32m\u001b[1mTest Passed\u001b[22m\u001b[39m"
      ]
     },
     "execution_count": 11,
     "metadata": {},
     "output_type": "execute_result"
    }
   ],
   "source": [
    "function work4_vectorized!(A, B, v)\n",
    "    N = size(A,1)\n",
    "    val = @. -cos(2*mod(v,256))*0.5\n",
    "    \n",
    "    for i in 1:N\n",
    "        @views A[i,1:N] .= B[i,1:N] .* val[i]\n",
    "    end\n",
    "    return A\n",
    "end\n",
    "\n",
    "@btime work4_vectorized!(A, $B, $v) setup=(A=zeros(N,N))\n",
    "@test work4_vectorized!(zeros(N,N), B, v) ≈ result"
   ]
  },
  {
   "cell_type": "markdown",
   "metadata": {},
   "source": [
    "Same idea but explicit loop"
   ]
  },
  {
   "cell_type": "code",
   "execution_count": 12,
   "metadata": {
    "tags": []
   },
   "outputs": [
    {
     "name": "stdout",
     "output_type": "stream",
     "text": [
      "  84.571 μs (1 allocation: 2.06 KiB)\n"
     ]
    },
    {
     "data": {
      "text/plain": [
       "\u001b[32m\u001b[1mTest Passed\u001b[22m\u001b[39m"
      ]
     },
     "execution_count": 12,
     "metadata": {},
     "output_type": "execute_result"
    }
   ],
   "source": [
    "function work4_loop!(A, B, v)\n",
    "    N = size(A,1)\n",
    "    val = @. -cos(2*mod(v,256))*0.5\n",
    "    \n",
    "    for i in 1:N\n",
    "        for j in 1:N\n",
    "            @inbounds A[i,j] = B[i,j] * val[i]\n",
    "        end\n",
    "    end\n",
    "    return A\n",
    "end\n",
    "\n",
    "@btime work4_loop!(A, $B, $v) setup=(A=zeros(N,N))\n",
    "@test work4_loop!(zeros(N,N), B, v) ≈ result"
   ]
  },
  {
   "cell_type": "markdown",
   "metadata": {},
   "source": [
    "### Switch loop order (!!!)"
   ]
  },
  {
   "cell_type": "code",
   "execution_count": 13,
   "metadata": {
    "tags": []
   },
   "outputs": [
    {
     "name": "stdout",
     "output_type": "stream",
     "text": [
      "  32.790 μs (1 allocation: 2.06 KiB)\n"
     ]
    },
    {
     "data": {
      "text/plain": [
       "\u001b[32m\u001b[1mTest Passed\u001b[22m\u001b[39m"
      ]
     },
     "execution_count": 13,
     "metadata": {},
     "output_type": "execute_result"
    }
   ],
   "source": [
    "function work5!(A, B, v)\n",
    "    N = size(A,1)\n",
    "    val = @. -cos(2*mod(v,256))*0.5\n",
    "    \n",
    "    for j in 1:N\n",
    "        for i in 1:N\n",
    "            @inbounds A[i,j] = B[i,j] * val[i]\n",
    "        end\n",
    "    end\n",
    "    return A\n",
    "end\n",
    "\n",
    "@btime work5!(A, $B, $v) setup=(A=zeros(N,N))\n",
    "@test work5!(zeros(N,N), B, v) ≈ result"
   ]
  },
  {
   "cell_type": "markdown",
   "metadata": {},
   "source": [
    "And here with broadcasting"
   ]
  },
  {
   "cell_type": "code",
   "execution_count": 14,
   "metadata": {},
   "outputs": [
    {
     "name": "stdout",
     "output_type": "stream",
     "text": [
      "  32.722 μs (1 allocation: 2.06 KiB)\n"
     ]
    },
    {
     "data": {
      "text/plain": [
       "\u001b[32m\u001b[1mTest Passed\u001b[22m\u001b[39m"
      ]
     },
     "execution_count": 14,
     "metadata": {},
     "output_type": "execute_result"
    }
   ],
   "source": [
    "function work5_broadcasting!(A, B, v)\n",
    "    val = @. -cos(2*mod(v,256))*0.5\n",
    "    @. A = B * val\n",
    "    return A\n",
    "end\n",
    "\n",
    "@btime work5_broadcasting!(A, $B, $v) setup=(A=zeros(N,N))\n",
    "@test work5_broadcasting!(zeros(N, N), B, v) ≈ result"
   ]
  },
  {
   "cell_type": "markdown",
   "metadata": {},
   "source": [
    "## Bonus Question: Performance limit?\n",
    "\n",
    "Look at your final optimized version of `work!`.\n",
    "\n",
    "* In the limit of larger `A` and `B`, what is conceptually limiting the performance, the compute capability or memory transfer (i.e. reading and writing `A` and `B`)?"
   ]
  }
 ],
 "metadata": {
  "@webio": {
   "lastCommId": null,
   "lastKernelId": null
  },
  "kernelspec": {
   "display_name": "Julia 1.10.5",
   "language": "julia",
   "name": "julia-1.10"
  },
  "language_info": {
   "file_extension": ".jl",
   "mimetype": "application/julia",
   "name": "julia",
   "version": "1.10.5"
  }
 },
 "nbformat": 4,
 "nbformat_minor": 4
}
